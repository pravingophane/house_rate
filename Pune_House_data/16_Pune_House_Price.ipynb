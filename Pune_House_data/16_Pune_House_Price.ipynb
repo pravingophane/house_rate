{
 "cells": [
  {
   "cell_type": "markdown",
   "id": "78583444",
   "metadata": {},
   "source": [
    "# Linear Regression Model"
   ]
  },
  {
   "cell_type": "markdown",
   "id": "eee5bf26",
   "metadata": {},
   "source": [
    "## On Pune_House_data"
   ]
  },
  {
   "cell_type": "markdown",
   "id": "45d6384c",
   "metadata": {},
   "source": [
    "### 1.1 Import libraries"
   ]
  },
  {
   "cell_type": "code",
   "execution_count": 1,
   "id": "da8c66bb",
   "metadata": {},
   "outputs": [],
   "source": [
    "import numpy as np\n",
    "import pandas as pd\n",
    "\n",
    "#for visualization \n",
    "import matplotlib.pyplot as plt\n",
    "import seaborn as sns\n",
    "from sklearn.linear_model import LinearRegression\n",
    "from sklearn.model_selection import train_test_split\n",
    "from statsmodels.stats.outliers_influence import variance_inflation_factor\n",
    "from sklearn.metrics import mean_absolute_error,mean_squared_error,r2_score\n",
    "\n",
    "#avoid warnings\n",
    "import warnings\n",
    "warnings.filterwarnings('ignore')"
   ]
  },
  {
   "cell_type": "markdown",
   "id": "90d58ae0",
   "metadata": {},
   "source": [
    "## 1. Problem Statement"
   ]
  },
  {
   "cell_type": "markdown",
   "id": "7309e629",
   "metadata": {},
   "source": [
    "### ***To Predict Price of Houses in Pune location...***"
   ]
  },
  {
   "cell_type": "markdown",
   "id": "89ed8461",
   "metadata": {},
   "source": [
    "## 2. Data Gathering:-"
   ]
  },
  {
   "cell_type": "code",
   "execution_count": 2,
   "id": "b6eeaf62",
   "metadata": {
    "scrolled": true
   },
   "outputs": [
    {
     "data": {
      "text/html": [
       "<div>\n",
       "<style scoped>\n",
       "    .dataframe tbody tr th:only-of-type {\n",
       "        vertical-align: middle;\n",
       "    }\n",
       "\n",
       "    .dataframe tbody tr th {\n",
       "        vertical-align: top;\n",
       "    }\n",
       "\n",
       "    .dataframe thead th {\n",
       "        text-align: right;\n",
       "    }\n",
       "</style>\n",
       "<table border=\"1\" class=\"dataframe\">\n",
       "  <thead>\n",
       "    <tr style=\"text-align: right;\">\n",
       "      <th></th>\n",
       "      <th>area_type</th>\n",
       "      <th>availability</th>\n",
       "      <th>size</th>\n",
       "      <th>society</th>\n",
       "      <th>total_sqft</th>\n",
       "      <th>bath</th>\n",
       "      <th>balcony</th>\n",
       "      <th>price</th>\n",
       "      <th>site_location</th>\n",
       "    </tr>\n",
       "  </thead>\n",
       "  <tbody>\n",
       "    <tr>\n",
       "      <th>0</th>\n",
       "      <td>Super built-up  Area</td>\n",
       "      <td>19-Dec</td>\n",
       "      <td>2 BHK</td>\n",
       "      <td>Coomee</td>\n",
       "      <td>1056</td>\n",
       "      <td>2.0</td>\n",
       "      <td>1.0</td>\n",
       "      <td>39.07</td>\n",
       "      <td>Alandi Road</td>\n",
       "    </tr>\n",
       "    <tr>\n",
       "      <th>1</th>\n",
       "      <td>Plot  Area</td>\n",
       "      <td>Ready To Move</td>\n",
       "      <td>4 Bedroom</td>\n",
       "      <td>Theanmp</td>\n",
       "      <td>2600</td>\n",
       "      <td>5.0</td>\n",
       "      <td>3.0</td>\n",
       "      <td>120.00</td>\n",
       "      <td>Ambegaon Budruk</td>\n",
       "    </tr>\n",
       "    <tr>\n",
       "      <th>2</th>\n",
       "      <td>Built-up  Area</td>\n",
       "      <td>Ready To Move</td>\n",
       "      <td>3 BHK</td>\n",
       "      <td>NaN</td>\n",
       "      <td>1440</td>\n",
       "      <td>2.0</td>\n",
       "      <td>3.0</td>\n",
       "      <td>62.00</td>\n",
       "      <td>Anandnagar</td>\n",
       "    </tr>\n",
       "    <tr>\n",
       "      <th>3</th>\n",
       "      <td>Super built-up  Area</td>\n",
       "      <td>Ready To Move</td>\n",
       "      <td>3 BHK</td>\n",
       "      <td>Soiewre</td>\n",
       "      <td>1521</td>\n",
       "      <td>3.0</td>\n",
       "      <td>1.0</td>\n",
       "      <td>95.00</td>\n",
       "      <td>Aundh</td>\n",
       "    </tr>\n",
       "    <tr>\n",
       "      <th>4</th>\n",
       "      <td>Super built-up  Area</td>\n",
       "      <td>Ready To Move</td>\n",
       "      <td>2 BHK</td>\n",
       "      <td>NaN</td>\n",
       "      <td>1200</td>\n",
       "      <td>2.0</td>\n",
       "      <td>1.0</td>\n",
       "      <td>51.00</td>\n",
       "      <td>Aundh Road</td>\n",
       "    </tr>\n",
       "    <tr>\n",
       "      <th>...</th>\n",
       "      <td>...</td>\n",
       "      <td>...</td>\n",
       "      <td>...</td>\n",
       "      <td>...</td>\n",
       "      <td>...</td>\n",
       "      <td>...</td>\n",
       "      <td>...</td>\n",
       "      <td>...</td>\n",
       "      <td>...</td>\n",
       "    </tr>\n",
       "    <tr>\n",
       "      <th>13315</th>\n",
       "      <td>Built-up  Area</td>\n",
       "      <td>Ready To Move</td>\n",
       "      <td>5 Bedroom</td>\n",
       "      <td>ArsiaEx</td>\n",
       "      <td>3453</td>\n",
       "      <td>4.0</td>\n",
       "      <td>0.0</td>\n",
       "      <td>231.00</td>\n",
       "      <td>Pashan</td>\n",
       "    </tr>\n",
       "    <tr>\n",
       "      <th>13316</th>\n",
       "      <td>Super built-up  Area</td>\n",
       "      <td>Ready To Move</td>\n",
       "      <td>4 BHK</td>\n",
       "      <td>NaN</td>\n",
       "      <td>3600</td>\n",
       "      <td>5.0</td>\n",
       "      <td>NaN</td>\n",
       "      <td>400.00</td>\n",
       "      <td>Paud Road</td>\n",
       "    </tr>\n",
       "    <tr>\n",
       "      <th>13317</th>\n",
       "      <td>Built-up  Area</td>\n",
       "      <td>Ready To Move</td>\n",
       "      <td>2 BHK</td>\n",
       "      <td>Mahla T</td>\n",
       "      <td>1141</td>\n",
       "      <td>2.0</td>\n",
       "      <td>1.0</td>\n",
       "      <td>60.00</td>\n",
       "      <td>Pirangut</td>\n",
       "    </tr>\n",
       "    <tr>\n",
       "      <th>13318</th>\n",
       "      <td>Super built-up  Area</td>\n",
       "      <td>18-Jun</td>\n",
       "      <td>4 BHK</td>\n",
       "      <td>SollyCl</td>\n",
       "      <td>4689</td>\n",
       "      <td>4.0</td>\n",
       "      <td>1.0</td>\n",
       "      <td>488.00</td>\n",
       "      <td>Prabhat Road</td>\n",
       "    </tr>\n",
       "    <tr>\n",
       "      <th>13319</th>\n",
       "      <td>Super built-up  Area</td>\n",
       "      <td>Ready To Move</td>\n",
       "      <td>1 BHK</td>\n",
       "      <td>NaN</td>\n",
       "      <td>550</td>\n",
       "      <td>1.0</td>\n",
       "      <td>1.0</td>\n",
       "      <td>17.00</td>\n",
       "      <td>Pune Railway Station</td>\n",
       "    </tr>\n",
       "  </tbody>\n",
       "</table>\n",
       "<p>13320 rows × 9 columns</p>\n",
       "</div>"
      ],
      "text/plain": [
       "                  area_type   availability       size  society total_sqft  \\\n",
       "0      Super built-up  Area         19-Dec      2 BHK  Coomee        1056   \n",
       "1                Plot  Area  Ready To Move  4 Bedroom  Theanmp       2600   \n",
       "2            Built-up  Area  Ready To Move      3 BHK      NaN       1440   \n",
       "3      Super built-up  Area  Ready To Move      3 BHK  Soiewre       1521   \n",
       "4      Super built-up  Area  Ready To Move      2 BHK      NaN       1200   \n",
       "...                     ...            ...        ...      ...        ...   \n",
       "13315        Built-up  Area  Ready To Move  5 Bedroom  ArsiaEx       3453   \n",
       "13316  Super built-up  Area  Ready To Move      4 BHK      NaN       3600   \n",
       "13317        Built-up  Area  Ready To Move      2 BHK  Mahla T       1141   \n",
       "13318  Super built-up  Area         18-Jun      4 BHK  SollyCl       4689   \n",
       "13319  Super built-up  Area  Ready To Move      1 BHK      NaN        550   \n",
       "\n",
       "       bath  balcony   price         site_location  \n",
       "0       2.0      1.0   39.07           Alandi Road  \n",
       "1       5.0      3.0  120.00       Ambegaon Budruk  \n",
       "2       2.0      3.0   62.00            Anandnagar  \n",
       "3       3.0      1.0   95.00                 Aundh  \n",
       "4       2.0      1.0   51.00            Aundh Road  \n",
       "...     ...      ...     ...                   ...  \n",
       "13315   4.0      0.0  231.00                Pashan  \n",
       "13316   5.0      NaN  400.00             Paud Road  \n",
       "13317   2.0      1.0   60.00              Pirangut  \n",
       "13318   4.0      1.0  488.00          Prabhat Road  \n",
       "13319   1.0      1.0   17.00  Pune Railway Station  \n",
       "\n",
       "[13320 rows x 9 columns]"
      ]
     },
     "execution_count": 2,
     "metadata": {},
     "output_type": "execute_result"
    }
   ],
   "source": [
    "df = pd.read_csv(\"Pune_House_Data.csv\")\n",
    "df"
   ]
  },
  {
   "cell_type": "markdown",
   "id": "c0e1caf5",
   "metadata": {},
   "source": [
    "## 3. Exploratory Data Analysis:-"
   ]
  },
  {
   "cell_type": "code",
   "execution_count": 3,
   "id": "9a727293",
   "metadata": {
    "scrolled": false
   },
   "outputs": [
    {
     "name": "stdout",
     "output_type": "stream",
     "text": [
      "<class 'pandas.core.frame.DataFrame'>\n",
      "RangeIndex: 13320 entries, 0 to 13319\n",
      "Data columns (total 9 columns):\n",
      " #   Column         Non-Null Count  Dtype  \n",
      "---  ------         --------------  -----  \n",
      " 0   area_type      13320 non-null  object \n",
      " 1   availability   13320 non-null  object \n",
      " 2   size           13304 non-null  object \n",
      " 3   society        7818 non-null   object \n",
      " 4   total_sqft     13320 non-null  object \n",
      " 5   bath           13247 non-null  float64\n",
      " 6   balcony        12711 non-null  float64\n",
      " 7   price          13320 non-null  float64\n",
      " 8   site_location  13319 non-null  object \n",
      "dtypes: float64(3), object(6)\n",
      "memory usage: 936.7+ KB\n"
     ]
    }
   ],
   "source": [
    "df.info()"
   ]
  },
  {
   "cell_type": "markdown",
   "id": "b7c4c300",
   "metadata": {},
   "source": [
    "### 3.1 area_type"
   ]
  },
  {
   "cell_type": "code",
   "execution_count": 4,
   "id": "1999f392",
   "metadata": {},
   "outputs": [
    {
     "data": {
      "text/plain": [
       "0        Super built-up  Area\n",
       "1                  Plot  Area\n",
       "2              Built-up  Area\n",
       "3        Super built-up  Area\n",
       "4        Super built-up  Area\n",
       "                 ...         \n",
       "13315          Built-up  Area\n",
       "13316    Super built-up  Area\n",
       "13317          Built-up  Area\n",
       "13318    Super built-up  Area\n",
       "13319    Super built-up  Area\n",
       "Name: area_type, Length: 13320, dtype: object"
      ]
     },
     "execution_count": 4,
     "metadata": {},
     "output_type": "execute_result"
    }
   ],
   "source": [
    "df['area_type']"
   ]
  },
  {
   "cell_type": "code",
   "execution_count": 5,
   "id": "1ad9caf8",
   "metadata": {},
   "outputs": [
    {
     "data": {
      "text/plain": [
       "0"
      ]
     },
     "execution_count": 5,
     "metadata": {},
     "output_type": "execute_result"
    }
   ],
   "source": [
    "df['area_type'].isna().sum()"
   ]
  },
  {
   "cell_type": "code",
   "execution_count": 6,
   "id": "263a7432",
   "metadata": {},
   "outputs": [
    {
     "data": {
      "text/plain": [
       "{'Super built-up  Area': 8790,\n",
       " 'Built-up  Area': 2418,\n",
       " 'Plot  Area': 2025,\n",
       " 'Carpet  Area': 87}"
      ]
     },
     "execution_count": 6,
     "metadata": {},
     "output_type": "execute_result"
    }
   ],
   "source": [
    "df['area_type'].value_counts().to_dict() #One Hot Encoding"
   ]
  },
  {
   "cell_type": "code",
   "execution_count": 7,
   "id": "0b8db150",
   "metadata": {},
   "outputs": [],
   "source": [
    "df = pd.get_dummies(df,columns=[\"area_type\"])"
   ]
  },
  {
   "cell_type": "code",
   "execution_count": 8,
   "id": "a128f944",
   "metadata": {},
   "outputs": [
    {
     "data": {
      "text/html": [
       "<div>\n",
       "<style scoped>\n",
       "    .dataframe tbody tr th:only-of-type {\n",
       "        vertical-align: middle;\n",
       "    }\n",
       "\n",
       "    .dataframe tbody tr th {\n",
       "        vertical-align: top;\n",
       "    }\n",
       "\n",
       "    .dataframe thead th {\n",
       "        text-align: right;\n",
       "    }\n",
       "</style>\n",
       "<table border=\"1\" class=\"dataframe\">\n",
       "  <thead>\n",
       "    <tr style=\"text-align: right;\">\n",
       "      <th></th>\n",
       "      <th>0</th>\n",
       "      <th>1</th>\n",
       "      <th>2</th>\n",
       "      <th>3</th>\n",
       "      <th>4</th>\n",
       "    </tr>\n",
       "  </thead>\n",
       "  <tbody>\n",
       "    <tr>\n",
       "      <th>availability</th>\n",
       "      <td>19-Dec</td>\n",
       "      <td>Ready To Move</td>\n",
       "      <td>Ready To Move</td>\n",
       "      <td>Ready To Move</td>\n",
       "      <td>Ready To Move</td>\n",
       "    </tr>\n",
       "    <tr>\n",
       "      <th>size</th>\n",
       "      <td>2 BHK</td>\n",
       "      <td>4 Bedroom</td>\n",
       "      <td>3 BHK</td>\n",
       "      <td>3 BHK</td>\n",
       "      <td>2 BHK</td>\n",
       "    </tr>\n",
       "    <tr>\n",
       "      <th>society</th>\n",
       "      <td>Coomee</td>\n",
       "      <td>Theanmp</td>\n",
       "      <td>NaN</td>\n",
       "      <td>Soiewre</td>\n",
       "      <td>NaN</td>\n",
       "    </tr>\n",
       "    <tr>\n",
       "      <th>total_sqft</th>\n",
       "      <td>1056</td>\n",
       "      <td>2600</td>\n",
       "      <td>1440</td>\n",
       "      <td>1521</td>\n",
       "      <td>1200</td>\n",
       "    </tr>\n",
       "    <tr>\n",
       "      <th>bath</th>\n",
       "      <td>2.0</td>\n",
       "      <td>5.0</td>\n",
       "      <td>2.0</td>\n",
       "      <td>3.0</td>\n",
       "      <td>2.0</td>\n",
       "    </tr>\n",
       "    <tr>\n",
       "      <th>balcony</th>\n",
       "      <td>1.0</td>\n",
       "      <td>3.0</td>\n",
       "      <td>3.0</td>\n",
       "      <td>1.0</td>\n",
       "      <td>1.0</td>\n",
       "    </tr>\n",
       "    <tr>\n",
       "      <th>price</th>\n",
       "      <td>39.07</td>\n",
       "      <td>120.0</td>\n",
       "      <td>62.0</td>\n",
       "      <td>95.0</td>\n",
       "      <td>51.0</td>\n",
       "    </tr>\n",
       "    <tr>\n",
       "      <th>site_location</th>\n",
       "      <td>Alandi Road</td>\n",
       "      <td>Ambegaon Budruk</td>\n",
       "      <td>Anandnagar</td>\n",
       "      <td>Aundh</td>\n",
       "      <td>Aundh Road</td>\n",
       "    </tr>\n",
       "    <tr>\n",
       "      <th>area_type_Built-up  Area</th>\n",
       "      <td>0</td>\n",
       "      <td>0</td>\n",
       "      <td>1</td>\n",
       "      <td>0</td>\n",
       "      <td>0</td>\n",
       "    </tr>\n",
       "    <tr>\n",
       "      <th>area_type_Carpet  Area</th>\n",
       "      <td>0</td>\n",
       "      <td>0</td>\n",
       "      <td>0</td>\n",
       "      <td>0</td>\n",
       "      <td>0</td>\n",
       "    </tr>\n",
       "    <tr>\n",
       "      <th>area_type_Plot  Area</th>\n",
       "      <td>0</td>\n",
       "      <td>1</td>\n",
       "      <td>0</td>\n",
       "      <td>0</td>\n",
       "      <td>0</td>\n",
       "    </tr>\n",
       "    <tr>\n",
       "      <th>area_type_Super built-up  Area</th>\n",
       "      <td>1</td>\n",
       "      <td>0</td>\n",
       "      <td>0</td>\n",
       "      <td>1</td>\n",
       "      <td>1</td>\n",
       "    </tr>\n",
       "  </tbody>\n",
       "</table>\n",
       "</div>"
      ],
      "text/plain": [
       "                                          0                1              2  \\\n",
       "availability                         19-Dec    Ready To Move  Ready To Move   \n",
       "size                                  2 BHK        4 Bedroom          3 BHK   \n",
       "society                             Coomee           Theanmp            NaN   \n",
       "total_sqft                             1056             2600           1440   \n",
       "bath                                    2.0              5.0            2.0   \n",
       "balcony                                 1.0              3.0            3.0   \n",
       "price                                 39.07            120.0           62.0   \n",
       "site_location                   Alandi Road  Ambegaon Budruk     Anandnagar   \n",
       "area_type_Built-up  Area                  0                0              1   \n",
       "area_type_Carpet  Area                    0                0              0   \n",
       "area_type_Plot  Area                      0                1              0   \n",
       "area_type_Super built-up  Area            1                0              0   \n",
       "\n",
       "                                            3              4  \n",
       "availability                    Ready To Move  Ready To Move  \n",
       "size                                    3 BHK          2 BHK  \n",
       "society                               Soiewre            NaN  \n",
       "total_sqft                               1521           1200  \n",
       "bath                                      3.0            2.0  \n",
       "balcony                                   1.0            1.0  \n",
       "price                                    95.0           51.0  \n",
       "site_location                           Aundh     Aundh Road  \n",
       "area_type_Built-up  Area                    0              0  \n",
       "area_type_Carpet  Area                      0              0  \n",
       "area_type_Plot  Area                        0              0  \n",
       "area_type_Super built-up  Area              1              1  "
      ]
     },
     "execution_count": 8,
     "metadata": {},
     "output_type": "execute_result"
    }
   ],
   "source": [
    "df.head().T"
   ]
  },
  {
   "cell_type": "markdown",
   "id": "16ca7726",
   "metadata": {},
   "source": [
    "### 3.2 availability"
   ]
  },
  {
   "cell_type": "code",
   "execution_count": 9,
   "id": "a88e03c9",
   "metadata": {},
   "outputs": [
    {
     "data": {
      "text/plain": [
       "0               19-Dec\n",
       "1        Ready To Move\n",
       "2        Ready To Move\n",
       "3        Ready To Move\n",
       "4        Ready To Move\n",
       "             ...      \n",
       "13315    Ready To Move\n",
       "13316    Ready To Move\n",
       "13317    Ready To Move\n",
       "13318           18-Jun\n",
       "13319    Ready To Move\n",
       "Name: availability, Length: 13320, dtype: object"
      ]
     },
     "execution_count": 9,
     "metadata": {},
     "output_type": "execute_result"
    }
   ],
   "source": [
    "df['availability']"
   ]
  },
  {
   "cell_type": "code",
   "execution_count": 10,
   "id": "696927d0",
   "metadata": {},
   "outputs": [
    {
     "data": {
      "text/plain": [
       "0"
      ]
     },
     "execution_count": 10,
     "metadata": {},
     "output_type": "execute_result"
    }
   ],
   "source": [
    "df['availability'].isnull().sum()"
   ]
  },
  {
   "cell_type": "code",
   "execution_count": 11,
   "id": "30977624",
   "metadata": {},
   "outputs": [
    {
     "data": {
      "text/plain": [
       "Ready To Move    10581\n",
       "18-Dec             307\n",
       "18-May             295\n",
       "18-Apr             271\n",
       "18-Aug             200\n",
       "                 ...  \n",
       "15-Aug               1\n",
       "17-Jan               1\n",
       "16-Nov               1\n",
       "16-Jan               1\n",
       "14-Jul               1\n",
       "Name: availability, Length: 81, dtype: int64"
      ]
     },
     "execution_count": 11,
     "metadata": {},
     "output_type": "execute_result"
    }
   ],
   "source": [
    "df['availability'].value_counts()"
   ]
  },
  {
   "cell_type": "code",
   "execution_count": 12,
   "id": "2903a887",
   "metadata": {},
   "outputs": [
    {
     "data": {
      "text/plain": [
       "['19-Dec',\n",
       " 'Ready To Move',\n",
       " '18-May',\n",
       " '18-Feb',\n",
       " '18-Nov',\n",
       " '20-Dec',\n",
       " '17-Oct',\n",
       " '21-Dec',\n",
       " '19-Sep',\n",
       " '20-Sep',\n",
       " '18-Mar',\n",
       " '20-Feb',\n",
       " '18-Apr',\n",
       " '20-Aug',\n",
       " '18-Oct',\n",
       " '19-Mar',\n",
       " '17-Sep',\n",
       " '18-Dec',\n",
       " '17-Aug',\n",
       " '19-Apr',\n",
       " '18-Jun',\n",
       " '22-Dec',\n",
       " '22-Jan',\n",
       " '18-Aug',\n",
       " '19-Jan',\n",
       " '17-Jul',\n",
       " '18-Jul',\n",
       " '21-Jun',\n",
       " '20-May',\n",
       " '19-Aug',\n",
       " '18-Sep',\n",
       " '17-May',\n",
       " '17-Jun',\n",
       " '21-May',\n",
       " '18-Jan',\n",
       " '20-Mar',\n",
       " '17-Dec',\n",
       " '16-Mar',\n",
       " '19-Jun',\n",
       " '22-Jun',\n",
       " '19-Jul',\n",
       " '21-Feb',\n",
       " 'Immediate Possession',\n",
       " '19-May',\n",
       " '17-Nov',\n",
       " '20-Oct',\n",
       " '20-Jun',\n",
       " '19-Feb',\n",
       " '21-Oct',\n",
       " '21-Jan',\n",
       " '17-Mar',\n",
       " '17-Apr',\n",
       " '22-May',\n",
       " '19-Oct',\n",
       " '21-Jul',\n",
       " '21-Nov',\n",
       " '21-Mar',\n",
       " '16-Dec',\n",
       " '22-Mar',\n",
       " '20-Jan',\n",
       " '21-Sep',\n",
       " '21-Aug',\n",
       " '14-Nov',\n",
       " '19-Nov',\n",
       " '15-Nov',\n",
       " '16-Jul',\n",
       " '15-Jun',\n",
       " '17-Feb',\n",
       " '20-Nov',\n",
       " '20-Jul',\n",
       " '16-Sep',\n",
       " '15-Oct',\n",
       " '15-Dec',\n",
       " '16-Oct',\n",
       " '22-Nov',\n",
       " '15-Aug',\n",
       " '17-Jan',\n",
       " '16-Nov',\n",
       " '20-Apr',\n",
       " '16-Jan',\n",
       " '14-Jul']"
      ]
     },
     "execution_count": 12,
     "metadata": {},
     "output_type": "execute_result"
    }
   ],
   "source": [
    "df['availability'].unique().tolist()"
   ]
  },
  {
   "cell_type": "code",
   "execution_count": 13,
   "id": "a470e250",
   "metadata": {},
   "outputs": [
    {
     "data": {
      "text/plain": [
       "{'19-Dec': 0,\n",
       " 'Ready To Move': 0,\n",
       " '18-May': 0,\n",
       " '18-Feb': 0,\n",
       " '18-Nov': 0,\n",
       " '20-Dec': 0,\n",
       " '17-Oct': 0,\n",
       " '21-Dec': 0,\n",
       " '19-Sep': 0,\n",
       " '20-Sep': 0,\n",
       " '18-Mar': 0,\n",
       " '20-Feb': 0,\n",
       " '18-Apr': 0,\n",
       " '20-Aug': 0,\n",
       " '18-Oct': 0,\n",
       " '19-Mar': 0,\n",
       " '17-Sep': 0,\n",
       " '18-Dec': 0,\n",
       " '17-Aug': 0,\n",
       " '19-Apr': 0,\n",
       " '18-Jun': 0,\n",
       " '22-Dec': 0,\n",
       " '22-Jan': 0,\n",
       " '18-Aug': 0,\n",
       " '19-Jan': 0,\n",
       " '17-Jul': 0,\n",
       " '18-Jul': 0,\n",
       " '21-Jun': 0,\n",
       " '20-May': 0,\n",
       " '19-Aug': 0,\n",
       " '18-Sep': 0,\n",
       " '17-May': 0,\n",
       " '17-Jun': 0,\n",
       " '21-May': 0,\n",
       " '18-Jan': 0,\n",
       " '20-Mar': 0,\n",
       " '17-Dec': 0,\n",
       " '16-Mar': 0,\n",
       " '19-Jun': 0,\n",
       " '22-Jun': 0,\n",
       " '19-Jul': 0,\n",
       " '21-Feb': 0,\n",
       " 'Immediate Possession': 0,\n",
       " '19-May': 0,\n",
       " '17-Nov': 0,\n",
       " '20-Oct': 0,\n",
       " '20-Jun': 0,\n",
       " '19-Feb': 0,\n",
       " '21-Oct': 0,\n",
       " '21-Jan': 0,\n",
       " '17-Mar': 0,\n",
       " '17-Apr': 0,\n",
       " '22-May': 0,\n",
       " '19-Oct': 0,\n",
       " '21-Jul': 0,\n",
       " '21-Nov': 0,\n",
       " '21-Mar': 0,\n",
       " '16-Dec': 0,\n",
       " '22-Mar': 0,\n",
       " '20-Jan': 0,\n",
       " '21-Sep': 0,\n",
       " '21-Aug': 0,\n",
       " '14-Nov': 0,\n",
       " '19-Nov': 0,\n",
       " '15-Nov': 0,\n",
       " '16-Jul': 0,\n",
       " '15-Jun': 0,\n",
       " '17-Feb': 0,\n",
       " '20-Nov': 0,\n",
       " '20-Jul': 0,\n",
       " '16-Sep': 0,\n",
       " '15-Oct': 0,\n",
       " '15-Dec': 0,\n",
       " '16-Oct': 0,\n",
       " '22-Nov': 0,\n",
       " '15-Aug': 0,\n",
       " '17-Jan': 0,\n",
       " '16-Nov': 0,\n",
       " '20-Apr': 0,\n",
       " '16-Jan': 0,\n",
       " '14-Jul': 0}"
      ]
     },
     "execution_count": 13,
     "metadata": {},
     "output_type": "execute_result"
    }
   ],
   "source": [
    "lst1 = df['availability'].unique().tolist()\n",
    "\n",
    "dict1_availability = {i:0 for i in lst1}\n",
    "dict1_availability"
   ]
  },
  {
   "cell_type": "code",
   "execution_count": 14,
   "id": "57d12401",
   "metadata": {},
   "outputs": [
    {
     "name": "stdout",
     "output_type": "stream",
     "text": [
      "{'19-Dec': 0, 'Ready To Move': 1, '18-May': 0, '18-Feb': 0, '18-Nov': 0, '20-Dec': 0, '17-Oct': 0, '21-Dec': 0, '19-Sep': 0, '20-Sep': 0, '18-Mar': 0, '20-Feb': 0, '18-Apr': 0, '20-Aug': 0, '18-Oct': 0, '19-Mar': 0, '17-Sep': 0, '18-Dec': 0, '17-Aug': 0, '19-Apr': 0, '18-Jun': 0, '22-Dec': 0, '22-Jan': 0, '18-Aug': 0, '19-Jan': 0, '17-Jul': 0, '18-Jul': 0, '21-Jun': 0, '20-May': 0, '19-Aug': 0, '18-Sep': 0, '17-May': 0, '17-Jun': 0, '21-May': 0, '18-Jan': 0, '20-Mar': 0, '17-Dec': 0, '16-Mar': 0, '19-Jun': 0, '22-Jun': 0, '19-Jul': 0, '21-Feb': 0, 'Immediate Possession': 1, '19-May': 0, '17-Nov': 0, '20-Oct': 0, '20-Jun': 0, '19-Feb': 0, '21-Oct': 0, '21-Jan': 0, '17-Mar': 0, '17-Apr': 0, '22-May': 0, '19-Oct': 0, '21-Jul': 0, '21-Nov': 0, '21-Mar': 0, '16-Dec': 0, '22-Mar': 0, '20-Jan': 0, '21-Sep': 0, '21-Aug': 0, '14-Nov': 0, '19-Nov': 0, '15-Nov': 0, '16-Jul': 0, '15-Jun': 0, '17-Feb': 0, '20-Nov': 0, '20-Jul': 0, '16-Sep': 0, '15-Oct': 0, '15-Dec': 0, '16-Oct': 0, '22-Nov': 0, '15-Aug': 0, '17-Jan': 0, '16-Nov': 0, '20-Apr': 0, '16-Jan': 0, '14-Jul': 0}\n"
     ]
    }
   ],
   "source": [
    "dict1_availability[\"Ready To Move\"] = 1\n",
    "dict1_availability[\"Immediate Possession\"] = 1\n",
    "print(dict1_availability)"
   ]
  },
  {
   "cell_type": "code",
   "execution_count": 15,
   "id": "c62c185a",
   "metadata": {},
   "outputs": [
    {
     "data": {
      "text/plain": [
       "{'19-Dec': 0,\n",
       " 'Ready To Move': 1,\n",
       " '18-May': 0,\n",
       " '18-Feb': 0,\n",
       " '18-Nov': 0,\n",
       " '20-Dec': 0,\n",
       " '17-Oct': 0,\n",
       " '21-Dec': 0,\n",
       " '19-Sep': 0,\n",
       " '20-Sep': 0,\n",
       " '18-Mar': 0,\n",
       " '20-Feb': 0,\n",
       " '18-Apr': 0,\n",
       " '20-Aug': 0,\n",
       " '18-Oct': 0,\n",
       " '19-Mar': 0,\n",
       " '17-Sep': 0,\n",
       " '18-Dec': 0,\n",
       " '17-Aug': 0,\n",
       " '19-Apr': 0,\n",
       " '18-Jun': 0,\n",
       " '22-Dec': 0,\n",
       " '22-Jan': 0,\n",
       " '18-Aug': 0,\n",
       " '19-Jan': 0,\n",
       " '17-Jul': 0,\n",
       " '18-Jul': 0,\n",
       " '21-Jun': 0,\n",
       " '20-May': 0,\n",
       " '19-Aug': 0,\n",
       " '18-Sep': 0,\n",
       " '17-May': 0,\n",
       " '17-Jun': 0,\n",
       " '21-May': 0,\n",
       " '18-Jan': 0,\n",
       " '20-Mar': 0,\n",
       " '17-Dec': 0,\n",
       " '16-Mar': 0,\n",
       " '19-Jun': 0,\n",
       " '22-Jun': 0,\n",
       " '19-Jul': 0,\n",
       " '21-Feb': 0,\n",
       " 'Immediate Possession': 1,\n",
       " '19-May': 0,\n",
       " '17-Nov': 0,\n",
       " '20-Oct': 0,\n",
       " '20-Jun': 0,\n",
       " '19-Feb': 0,\n",
       " '21-Oct': 0,\n",
       " '21-Jan': 0,\n",
       " '17-Mar': 0,\n",
       " '17-Apr': 0,\n",
       " '22-May': 0,\n",
       " '19-Oct': 0,\n",
       " '21-Jul': 0,\n",
       " '21-Nov': 0,\n",
       " '21-Mar': 0,\n",
       " '16-Dec': 0,\n",
       " '22-Mar': 0,\n",
       " '20-Jan': 0,\n",
       " '21-Sep': 0,\n",
       " '21-Aug': 0,\n",
       " '14-Nov': 0,\n",
       " '19-Nov': 0,\n",
       " '15-Nov': 0,\n",
       " '16-Jul': 0,\n",
       " '15-Jun': 0,\n",
       " '17-Feb': 0,\n",
       " '20-Nov': 0,\n",
       " '20-Jul': 0,\n",
       " '16-Sep': 0,\n",
       " '15-Oct': 0,\n",
       " '15-Dec': 0,\n",
       " '16-Oct': 0,\n",
       " '22-Nov': 0,\n",
       " '15-Aug': 0,\n",
       " '17-Jan': 0,\n",
       " '16-Nov': 0,\n",
       " '20-Apr': 0,\n",
       " '16-Jan': 0,\n",
       " '14-Jul': 0}"
      ]
     },
     "execution_count": 15,
     "metadata": {},
     "output_type": "execute_result"
    }
   ],
   "source": [
    "dict1_availability"
   ]
  },
  {
   "cell_type": "code",
   "execution_count": 16,
   "id": "b734e260",
   "metadata": {},
   "outputs": [],
   "source": [
    "df[\"availability\"].replace(dict1_availability, inplace=True)"
   ]
  },
  {
   "cell_type": "code",
   "execution_count": 17,
   "id": "61f8cf23",
   "metadata": {},
   "outputs": [
    {
     "data": {
      "text/plain": [
       "1    10597\n",
       "0     2723\n",
       "Name: availability, dtype: int64"
      ]
     },
     "execution_count": 17,
     "metadata": {},
     "output_type": "execute_result"
    }
   ],
   "source": [
    "df[\"availability\"].value_counts()"
   ]
  },
  {
   "cell_type": "code",
   "execution_count": 18,
   "id": "e3cdd371",
   "metadata": {},
   "outputs": [
    {
     "name": "stdout",
     "output_type": "stream",
     "text": [
      "<class 'pandas.core.frame.DataFrame'>\n",
      "RangeIndex: 13320 entries, 0 to 13319\n",
      "Data columns (total 12 columns):\n",
      " #   Column                          Non-Null Count  Dtype  \n",
      "---  ------                          --------------  -----  \n",
      " 0   availability                    13320 non-null  int64  \n",
      " 1   size                            13304 non-null  object \n",
      " 2   society                         7818 non-null   object \n",
      " 3   total_sqft                      13320 non-null  object \n",
      " 4   bath                            13247 non-null  float64\n",
      " 5   balcony                         12711 non-null  float64\n",
      " 6   price                           13320 non-null  float64\n",
      " 7   site_location                   13319 non-null  object \n",
      " 8   area_type_Built-up  Area        13320 non-null  uint8  \n",
      " 9   area_type_Carpet  Area          13320 non-null  uint8  \n",
      " 10  area_type_Plot  Area            13320 non-null  uint8  \n",
      " 11  area_type_Super built-up  Area  13320 non-null  uint8  \n",
      "dtypes: float64(3), int64(1), object(4), uint8(4)\n",
      "memory usage: 884.7+ KB\n"
     ]
    }
   ],
   "source": [
    "df.info()"
   ]
  },
  {
   "cell_type": "markdown",
   "id": "2abe7100",
   "metadata": {},
   "source": [
    "### 3.3 size"
   ]
  },
  {
   "cell_type": "code",
   "execution_count": 19,
   "id": "f17858af",
   "metadata": {},
   "outputs": [
    {
     "data": {
      "text/plain": [
       "0            2 BHK\n",
       "1        4 Bedroom\n",
       "2            3 BHK\n",
       "3            3 BHK\n",
       "4            2 BHK\n",
       "           ...    \n",
       "13315    5 Bedroom\n",
       "13316        4 BHK\n",
       "13317        2 BHK\n",
       "13318        4 BHK\n",
       "13319        1 BHK\n",
       "Name: size, Length: 13320, dtype: object"
      ]
     },
     "execution_count": 19,
     "metadata": {},
     "output_type": "execute_result"
    }
   ],
   "source": [
    "df['size']"
   ]
  },
  {
   "cell_type": "code",
   "execution_count": 20,
   "id": "d61eda13",
   "metadata": {},
   "outputs": [
    {
     "data": {
      "text/plain": [
       "16"
      ]
     },
     "execution_count": 20,
     "metadata": {},
     "output_type": "execute_result"
    }
   ],
   "source": [
    "df['size'].isna().sum()"
   ]
  },
  {
   "cell_type": "code",
   "execution_count": 21,
   "id": "df36584e",
   "metadata": {},
   "outputs": [
    {
     "data": {
      "text/plain": [
       "2 BHK         5199\n",
       "3 BHK         4310\n",
       "4 Bedroom      826\n",
       "4 BHK          591\n",
       "3 Bedroom      547\n",
       "1 BHK          538\n",
       "2 Bedroom      329\n",
       "5 Bedroom      297\n",
       "6 Bedroom      191\n",
       "1 Bedroom      105\n",
       "8 Bedroom       84\n",
       "7 Bedroom       83\n",
       "5 BHK           59\n",
       "9 Bedroom       46\n",
       "6 BHK           30\n",
       "7 BHK           17\n",
       "1 RK            13\n",
       "10 Bedroom      12\n",
       "9 BHK            8\n",
       "8 BHK            5\n",
       "11 BHK           2\n",
       "11 Bedroom       2\n",
       "10 BHK           2\n",
       "14 BHK           1\n",
       "13 BHK           1\n",
       "12 Bedroom       1\n",
       "27 BHK           1\n",
       "43 Bedroom       1\n",
       "16 BHK           1\n",
       "19 BHK           1\n",
       "18 Bedroom       1\n",
       "Name: size, dtype: int64"
      ]
     },
     "execution_count": 21,
     "metadata": {},
     "output_type": "execute_result"
    }
   ],
   "source": [
    "df['size'].value_counts()"
   ]
  },
  {
   "cell_type": "code",
   "execution_count": 22,
   "id": "208c2929",
   "metadata": {},
   "outputs": [
    {
     "data": {
      "text/plain": [
       "31"
      ]
     },
     "execution_count": 22,
     "metadata": {},
     "output_type": "execute_result"
    }
   ],
   "source": [
    "df['size'].nunique()"
   ]
  },
  {
   "cell_type": "code",
   "execution_count": 23,
   "id": "b5d4fd7d",
   "metadata": {},
   "outputs": [],
   "source": [
    "df['size'].fillna(df['size'].mode()[0],inplace=True) \n",
    "# column has categorical values so missing values replaced by mode and [0] so get 0th index value"
   ]
  },
  {
   "cell_type": "code",
   "execution_count": 24,
   "id": "ae38ebca",
   "metadata": {},
   "outputs": [
    {
     "data": {
      "text/plain": [
       "0"
      ]
     },
     "execution_count": 24,
     "metadata": {},
     "output_type": "execute_result"
    }
   ],
   "source": [
    "df['size'].isna().sum()"
   ]
  },
  {
   "cell_type": "code",
   "execution_count": 25,
   "id": "295b027b",
   "metadata": {},
   "outputs": [
    {
     "data": {
      "text/plain": [
       "{'2 BHK': 5215,\n",
       " '3 BHK': 4310,\n",
       " '4 Bedroom': 826,\n",
       " '4 BHK': 591,\n",
       " '3 Bedroom': 547,\n",
       " '1 BHK': 538,\n",
       " '2 Bedroom': 329,\n",
       " '5 Bedroom': 297,\n",
       " '6 Bedroom': 191,\n",
       " '1 Bedroom': 105,\n",
       " '8 Bedroom': 84,\n",
       " '7 Bedroom': 83,\n",
       " '5 BHK': 59,\n",
       " '9 Bedroom': 46,\n",
       " '6 BHK': 30,\n",
       " '7 BHK': 17,\n",
       " '1 RK': 13,\n",
       " '10 Bedroom': 12,\n",
       " '9 BHK': 8,\n",
       " '8 BHK': 5,\n",
       " '11 BHK': 2,\n",
       " '11 Bedroom': 2,\n",
       " '10 BHK': 2,\n",
       " '14 BHK': 1,\n",
       " '13 BHK': 1,\n",
       " '12 Bedroom': 1,\n",
       " '27 BHK': 1,\n",
       " '43 Bedroom': 1,\n",
       " '16 BHK': 1,\n",
       " '19 BHK': 1,\n",
       " '18 Bedroom': 1}"
      ]
     },
     "execution_count": 25,
     "metadata": {},
     "output_type": "execute_result"
    }
   ],
   "source": [
    "df['size'].value_counts().to_dict()\n"
   ]
  },
  {
   "cell_type": "code",
   "execution_count": 26,
   "id": "15a2084f",
   "metadata": {},
   "outputs": [
    {
     "data": {
      "text/plain": [
       "0        2\n",
       "1        4\n",
       "2        3\n",
       "3        3\n",
       "4        2\n",
       "        ..\n",
       "13315    5\n",
       "13316    4\n",
       "13317    2\n",
       "13318    4\n",
       "13319    1\n",
       "Name: size, Length: 13320, dtype: int64"
      ]
     },
     "execution_count": 26,
     "metadata": {},
     "output_type": "execute_result"
    }
   ],
   "source": [
    "dict1_size = {'2 BHK': 2,\n",
    " '3 BHK': 3,\n",
    " '4 Bedroom': 4,\n",
    " '4 BHK': 4,\n",
    " '3 Bedroom': 3,\n",
    " '1 BHK': 1,\n",
    " '2 Bedroom': 2,\n",
    " '5 Bedroom': 5,\n",
    " '6 Bedroom': 6,\n",
    " '1 Bedroom': 1,\n",
    " '8 Bedroom': 8,\n",
    " '7 Bedroom': 7,\n",
    " '5 BHK': 5,\n",
    " '9 Bedroom': 9,\n",
    " '6 BHK': 6,\n",
    " '7 BHK': 7,\n",
    " '1 RK': 1,\n",
    " '10 Bedroom': 10,\n",
    " '9 BHK': 9,\n",
    " '8 BHK': 8,\n",
    " '11 BHK': 11,\n",
    " '11 Bedroom': 11,\n",
    " '10 BHK': 10,\n",
    " '14 BHK': 14,\n",
    " '13 BHK': 13,\n",
    " '12 Bedroom': 12,\n",
    " '27 BHK': 27,\n",
    " '43 Bedroom': 43,\n",
    " '16 BHK': 16,\n",
    " '19 BHK': 19,\n",
    " '18 Bedroom': 18}\n",
    "\n",
    "df[\"size\"].replace(dict1_size, inplace=True)\n",
    "df[\"size\"]"
   ]
  },
  {
   "cell_type": "code",
   "execution_count": 27,
   "id": "5726829b",
   "metadata": {},
   "outputs": [
    {
     "name": "stdout",
     "output_type": "stream",
     "text": [
      "<class 'pandas.core.frame.DataFrame'>\n",
      "RangeIndex: 13320 entries, 0 to 13319\n",
      "Data columns (total 12 columns):\n",
      " #   Column                          Non-Null Count  Dtype  \n",
      "---  ------                          --------------  -----  \n",
      " 0   availability                    13320 non-null  int64  \n",
      " 1   size                            13320 non-null  int64  \n",
      " 2   society                         7818 non-null   object \n",
      " 3   total_sqft                      13320 non-null  object \n",
      " 4   bath                            13247 non-null  float64\n",
      " 5   balcony                         12711 non-null  float64\n",
      " 6   price                           13320 non-null  float64\n",
      " 7   site_location                   13319 non-null  object \n",
      " 8   area_type_Built-up  Area        13320 non-null  uint8  \n",
      " 9   area_type_Carpet  Area          13320 non-null  uint8  \n",
      " 10  area_type_Plot  Area            13320 non-null  uint8  \n",
      " 11  area_type_Super built-up  Area  13320 non-null  uint8  \n",
      "dtypes: float64(3), int64(2), object(3), uint8(4)\n",
      "memory usage: 884.7+ KB\n"
     ]
    }
   ],
   "source": [
    "df.info()"
   ]
  },
  {
   "cell_type": "markdown",
   "id": "0839b227",
   "metadata": {},
   "source": [
    "### 3.4 society"
   ]
  },
  {
   "cell_type": "code",
   "execution_count": 28,
   "id": "ab073231",
   "metadata": {},
   "outputs": [
    {
     "data": {
      "text/plain": [
       "0        Coomee \n",
       "1        Theanmp\n",
       "2            NaN\n",
       "3        Soiewre\n",
       "4            NaN\n",
       "          ...   \n",
       "13315    ArsiaEx\n",
       "13316        NaN\n",
       "13317    Mahla T\n",
       "13318    SollyCl\n",
       "13319        NaN\n",
       "Name: society, Length: 13320, dtype: object"
      ]
     },
     "execution_count": 28,
     "metadata": {},
     "output_type": "execute_result"
    }
   ],
   "source": [
    "df[\"society\"]"
   ]
  },
  {
   "cell_type": "code",
   "execution_count": 29,
   "id": "7e330022",
   "metadata": {},
   "outputs": [
    {
     "data": {
      "text/plain": [
       "5502"
      ]
     },
     "execution_count": 29,
     "metadata": {},
     "output_type": "execute_result"
    }
   ],
   "source": [
    "df[\"society\"].isna().sum()"
   ]
  },
  {
   "cell_type": "code",
   "execution_count": 30,
   "id": "4e210360",
   "metadata": {},
   "outputs": [
    {
     "data": {
      "text/plain": [
       "GrrvaGr    80\n",
       "PrarePa    76\n",
       "Sryalan    59\n",
       "Prtates    59\n",
       "GMown E    56\n",
       "           ..\n",
       "Amionce     1\n",
       "JaghtDe     1\n",
       "Jauraht     1\n",
       "Brity U     1\n",
       "RSntsAp     1\n",
       "Name: society, Length: 2688, dtype: int64"
      ]
     },
     "execution_count": 30,
     "metadata": {},
     "output_type": "execute_result"
    }
   ],
   "source": [
    "df[\"society\"].value_counts()"
   ]
  },
  {
   "cell_type": "code",
   "execution_count": 31,
   "id": "f5bf8fbf",
   "metadata": {
    "scrolled": true
   },
   "outputs": [
    {
     "data": {
      "text/plain": [
       "array(['Coomee ', 'Theanmp', nan, ..., 'SJovest', 'ThhtsV ', 'RSntsAp'],\n",
       "      dtype=object)"
      ]
     },
     "execution_count": 31,
     "metadata": {},
     "output_type": "execute_result"
    }
   ],
   "source": [
    "df[\"society\"].unique()"
   ]
  },
  {
   "cell_type": "markdown",
   "id": "3886394f",
   "metadata": {},
   "source": [
    "#### Here so many values are null as well so many unique values in this column and as per concerning the outcome and priority we can drop the column, there is no huge impact on dataset after drop this column"
   ]
  },
  {
   "cell_type": "code",
   "execution_count": 32,
   "id": "83371edf",
   "metadata": {},
   "outputs": [],
   "source": [
    "df.drop(\"society\",axis=1,inplace=True)"
   ]
  },
  {
   "cell_type": "code",
   "execution_count": 33,
   "id": "2a99409b",
   "metadata": {},
   "outputs": [
    {
     "name": "stdout",
     "output_type": "stream",
     "text": [
      "<class 'pandas.core.frame.DataFrame'>\n",
      "RangeIndex: 13320 entries, 0 to 13319\n",
      "Data columns (total 11 columns):\n",
      " #   Column                          Non-Null Count  Dtype  \n",
      "---  ------                          --------------  -----  \n",
      " 0   availability                    13320 non-null  int64  \n",
      " 1   size                            13320 non-null  int64  \n",
      " 2   total_sqft                      13320 non-null  object \n",
      " 3   bath                            13247 non-null  float64\n",
      " 4   balcony                         12711 non-null  float64\n",
      " 5   price                           13320 non-null  float64\n",
      " 6   site_location                   13319 non-null  object \n",
      " 7   area_type_Built-up  Area        13320 non-null  uint8  \n",
      " 8   area_type_Carpet  Area          13320 non-null  uint8  \n",
      " 9   area_type_Plot  Area            13320 non-null  uint8  \n",
      " 10  area_type_Super built-up  Area  13320 non-null  uint8  \n",
      "dtypes: float64(3), int64(2), object(2), uint8(4)\n",
      "memory usage: 780.6+ KB\n"
     ]
    }
   ],
   "source": [
    "df.info()"
   ]
  },
  {
   "cell_type": "markdown",
   "id": "95f93063",
   "metadata": {},
   "source": [
    "### 3.5 total_sqft"
   ]
  },
  {
   "cell_type": "code",
   "execution_count": 34,
   "id": "a355ae26",
   "metadata": {},
   "outputs": [
    {
     "name": "stdout",
     "output_type": "stream",
     "text": [
      "<class 'pandas.core.series.Series'>\n",
      "RangeIndex: 13320 entries, 0 to 13319\n",
      "Series name: total_sqft\n",
      "Non-Null Count  Dtype \n",
      "--------------  ----- \n",
      "13320 non-null  object\n",
      "dtypes: object(1)\n",
      "memory usage: 104.2+ KB\n"
     ]
    }
   ],
   "source": [
    "df[\"total_sqft\"].info() #datatype is str/object"
   ]
  },
  {
   "cell_type": "code",
   "execution_count": 35,
   "id": "c42c9bb8",
   "metadata": {},
   "outputs": [
    {
     "data": {
      "text/plain": [
       "0"
      ]
     },
     "execution_count": 35,
     "metadata": {},
     "output_type": "execute_result"
    }
   ],
   "source": [
    "df[\"total_sqft\"].isna().sum()"
   ]
  },
  {
   "cell_type": "code",
   "execution_count": 36,
   "id": "b90d479c",
   "metadata": {},
   "outputs": [
    {
     "data": {
      "text/plain": [
       "1200    843\n",
       "1100    221\n",
       "1500    205\n",
       "2400    196\n",
       "600     180\n",
       "       ... \n",
       "3580      1\n",
       "2461      1\n",
       "1437      1\n",
       "2155      1\n",
       "4689      1\n",
       "Name: total_sqft, Length: 2117, dtype: int64"
      ]
     },
     "execution_count": 36,
     "metadata": {},
     "output_type": "execute_result"
    }
   ],
   "source": [
    "df[\"total_sqft\"].value_counts()"
   ]
  },
  {
   "cell_type": "code",
   "execution_count": 37,
   "id": "7af4b6dd",
   "metadata": {},
   "outputs": [
    {
     "data": {
      "text/plain": [
       "array(['1056', '2600', '1440', ..., '1133 - 1384', '774', '4689'],\n",
       "      dtype=object)"
      ]
     },
     "execution_count": 37,
     "metadata": {},
     "output_type": "execute_result"
    }
   ],
   "source": [
    "df[\"total_sqft\"].unique()"
   ]
  },
  {
   "cell_type": "code",
   "execution_count": 38,
   "id": "5a42d479",
   "metadata": {},
   "outputs": [
    {
     "data": {
      "text/html": [
       "<div>\n",
       "<style scoped>\n",
       "    .dataframe tbody tr th:only-of-type {\n",
       "        vertical-align: middle;\n",
       "    }\n",
       "\n",
       "    .dataframe tbody tr th {\n",
       "        vertical-align: top;\n",
       "    }\n",
       "\n",
       "    .dataframe thead th {\n",
       "        text-align: right;\n",
       "    }\n",
       "</style>\n",
       "<table border=\"1\" class=\"dataframe\">\n",
       "  <thead>\n",
       "    <tr style=\"text-align: right;\">\n",
       "      <th></th>\n",
       "      <th>availability</th>\n",
       "      <th>size</th>\n",
       "      <th>total_sqft</th>\n",
       "      <th>bath</th>\n",
       "      <th>balcony</th>\n",
       "      <th>price</th>\n",
       "      <th>site_location</th>\n",
       "      <th>area_type_Built-up  Area</th>\n",
       "      <th>area_type_Carpet  Area</th>\n",
       "      <th>area_type_Plot  Area</th>\n",
       "      <th>area_type_Super built-up  Area</th>\n",
       "    </tr>\n",
       "  </thead>\n",
       "  <tbody>\n",
       "    <tr>\n",
       "      <th>30</th>\n",
       "      <td>0</td>\n",
       "      <td>4</td>\n",
       "      <td>2100 - 2850</td>\n",
       "      <td>4.0</td>\n",
       "      <td>0.0</td>\n",
       "      <td>186.000</td>\n",
       "      <td>Gultekdi</td>\n",
       "      <td>0</td>\n",
       "      <td>0</td>\n",
       "      <td>0</td>\n",
       "      <td>1</td>\n",
       "    </tr>\n",
       "    <tr>\n",
       "      <th>56</th>\n",
       "      <td>0</td>\n",
       "      <td>4</td>\n",
       "      <td>3010 - 3410</td>\n",
       "      <td>NaN</td>\n",
       "      <td>NaN</td>\n",
       "      <td>192.000</td>\n",
       "      <td>Model colony</td>\n",
       "      <td>1</td>\n",
       "      <td>0</td>\n",
       "      <td>0</td>\n",
       "      <td>0</td>\n",
       "    </tr>\n",
       "    <tr>\n",
       "      <th>81</th>\n",
       "      <td>0</td>\n",
       "      <td>4</td>\n",
       "      <td>2957 - 3450</td>\n",
       "      <td>NaN</td>\n",
       "      <td>NaN</td>\n",
       "      <td>224.500</td>\n",
       "      <td>Shukrawar Peth</td>\n",
       "      <td>1</td>\n",
       "      <td>0</td>\n",
       "      <td>0</td>\n",
       "      <td>0</td>\n",
       "    </tr>\n",
       "    <tr>\n",
       "      <th>122</th>\n",
       "      <td>0</td>\n",
       "      <td>4</td>\n",
       "      <td>3067 - 8156</td>\n",
       "      <td>4.0</td>\n",
       "      <td>0.0</td>\n",
       "      <td>477.000</td>\n",
       "      <td>Ganeshkhind</td>\n",
       "      <td>0</td>\n",
       "      <td>0</td>\n",
       "      <td>0</td>\n",
       "      <td>1</td>\n",
       "    </tr>\n",
       "    <tr>\n",
       "      <th>137</th>\n",
       "      <td>0</td>\n",
       "      <td>2</td>\n",
       "      <td>1042 - 1105</td>\n",
       "      <td>2.0</td>\n",
       "      <td>0.0</td>\n",
       "      <td>54.005</td>\n",
       "      <td>Khadaki</td>\n",
       "      <td>0</td>\n",
       "      <td>0</td>\n",
       "      <td>0</td>\n",
       "      <td>1</td>\n",
       "    </tr>\n",
       "    <tr>\n",
       "      <th>...</th>\n",
       "      <td>...</td>\n",
       "      <td>...</td>\n",
       "      <td>...</td>\n",
       "      <td>...</td>\n",
       "      <td>...</td>\n",
       "      <td>...</td>\n",
       "      <td>...</td>\n",
       "      <td>...</td>\n",
       "      <td>...</td>\n",
       "      <td>...</td>\n",
       "      <td>...</td>\n",
       "    </tr>\n",
       "    <tr>\n",
       "      <th>12990</th>\n",
       "      <td>0</td>\n",
       "      <td>3</td>\n",
       "      <td>1804 - 2273</td>\n",
       "      <td>3.0</td>\n",
       "      <td>0.0</td>\n",
       "      <td>122.000</td>\n",
       "      <td>Gokhale Nagar</td>\n",
       "      <td>0</td>\n",
       "      <td>0</td>\n",
       "      <td>0</td>\n",
       "      <td>1</td>\n",
       "    </tr>\n",
       "    <tr>\n",
       "      <th>13059</th>\n",
       "      <td>1</td>\n",
       "      <td>2</td>\n",
       "      <td>1200 - 1470</td>\n",
       "      <td>2.0</td>\n",
       "      <td>0.0</td>\n",
       "      <td>72.760</td>\n",
       "      <td>Anandnagar</td>\n",
       "      <td>0</td>\n",
       "      <td>0</td>\n",
       "      <td>0</td>\n",
       "      <td>1</td>\n",
       "    </tr>\n",
       "    <tr>\n",
       "      <th>13240</th>\n",
       "      <td>1</td>\n",
       "      <td>1</td>\n",
       "      <td>1020 - 1130</td>\n",
       "      <td>NaN</td>\n",
       "      <td>NaN</td>\n",
       "      <td>52.570</td>\n",
       "      <td>Vadgaon Budruk</td>\n",
       "      <td>0</td>\n",
       "      <td>0</td>\n",
       "      <td>0</td>\n",
       "      <td>1</td>\n",
       "    </tr>\n",
       "    <tr>\n",
       "      <th>13265</th>\n",
       "      <td>0</td>\n",
       "      <td>2</td>\n",
       "      <td>1133 - 1384</td>\n",
       "      <td>2.0</td>\n",
       "      <td>0.0</td>\n",
       "      <td>59.135</td>\n",
       "      <td>Dapodi</td>\n",
       "      <td>0</td>\n",
       "      <td>0</td>\n",
       "      <td>0</td>\n",
       "      <td>1</td>\n",
       "    </tr>\n",
       "    <tr>\n",
       "      <th>13299</th>\n",
       "      <td>0</td>\n",
       "      <td>4</td>\n",
       "      <td>2830 - 2882</td>\n",
       "      <td>5.0</td>\n",
       "      <td>0.0</td>\n",
       "      <td>154.500</td>\n",
       "      <td>Laxmi Road</td>\n",
       "      <td>0</td>\n",
       "      <td>0</td>\n",
       "      <td>0</td>\n",
       "      <td>1</td>\n",
       "    </tr>\n",
       "  </tbody>\n",
       "</table>\n",
       "<p>247 rows × 11 columns</p>\n",
       "</div>"
      ],
      "text/plain": [
       "       availability  size   total_sqft  bath  balcony    price  \\\n",
       "30                0     4  2100 - 2850   4.0      0.0  186.000   \n",
       "56                0     4  3010 - 3410   NaN      NaN  192.000   \n",
       "81                0     4  2957 - 3450   NaN      NaN  224.500   \n",
       "122               0     4  3067 - 8156   4.0      0.0  477.000   \n",
       "137               0     2  1042 - 1105   2.0      0.0   54.005   \n",
       "...             ...   ...          ...   ...      ...      ...   \n",
       "12990             0     3  1804 - 2273   3.0      0.0  122.000   \n",
       "13059             1     2  1200 - 1470   2.0      0.0   72.760   \n",
       "13240             1     1  1020 - 1130   NaN      NaN   52.570   \n",
       "13265             0     2  1133 - 1384   2.0      0.0   59.135   \n",
       "13299             0     4  2830 - 2882   5.0      0.0  154.500   \n",
       "\n",
       "        site_location  area_type_Built-up  Area  area_type_Carpet  Area  \\\n",
       "30           Gultekdi                         0                       0   \n",
       "56       Model colony                         1                       0   \n",
       "81     Shukrawar Peth                         1                       0   \n",
       "122       Ganeshkhind                         0                       0   \n",
       "137           Khadaki                         0                       0   \n",
       "...               ...                       ...                     ...   \n",
       "12990   Gokhale Nagar                         0                       0   \n",
       "13059      Anandnagar                         0                       0   \n",
       "13240  Vadgaon Budruk                         0                       0   \n",
       "13265          Dapodi                         0                       0   \n",
       "13299      Laxmi Road                         0                       0   \n",
       "\n",
       "       area_type_Plot  Area  area_type_Super built-up  Area  \n",
       "30                        0                               1  \n",
       "56                        0                               0  \n",
       "81                        0                               0  \n",
       "122                       0                               1  \n",
       "137                       0                               1  \n",
       "...                     ...                             ...  \n",
       "12990                     0                               1  \n",
       "13059                     0                               1  \n",
       "13240                     0                               1  \n",
       "13265                     0                               1  \n",
       "13299                     0                               1  \n",
       "\n",
       "[247 rows x 11 columns]"
      ]
     },
     "execution_count": 38,
     "metadata": {},
     "output_type": "execute_result"
    }
   ],
   "source": [
    "#beacuse of values in range so we can use exception handling method\n",
    "\n",
    "def isFloat(x):\n",
    "    try:\n",
    "        float(x)\n",
    "    except:\n",
    "        return False\n",
    "    return True\n",
    "\n",
    "# Displaying all the rows that are not integers\n",
    "df[~df['total_sqft'].apply(isFloat)]"
   ]
  },
  {
   "cell_type": "code",
   "execution_count": 39,
   "id": "338c9998",
   "metadata": {},
   "outputs": [
    {
     "data": {
      "text/html": [
       "<div>\n",
       "<style scoped>\n",
       "    .dataframe tbody tr th:only-of-type {\n",
       "        vertical-align: middle;\n",
       "    }\n",
       "\n",
       "    .dataframe tbody tr th {\n",
       "        vertical-align: top;\n",
       "    }\n",
       "\n",
       "    .dataframe thead th {\n",
       "        text-align: right;\n",
       "    }\n",
       "</style>\n",
       "<table border=\"1\" class=\"dataframe\">\n",
       "  <thead>\n",
       "    <tr style=\"text-align: right;\">\n",
       "      <th></th>\n",
       "      <th>availability</th>\n",
       "      <th>size</th>\n",
       "      <th>bath</th>\n",
       "      <th>balcony</th>\n",
       "      <th>price</th>\n",
       "      <th>site_location</th>\n",
       "      <th>area_type_Built-up  Area</th>\n",
       "      <th>area_type_Carpet  Area</th>\n",
       "      <th>area_type_Plot  Area</th>\n",
       "      <th>area_type_Super built-up  Area</th>\n",
       "      <th>new_total_sqft</th>\n",
       "    </tr>\n",
       "  </thead>\n",
       "  <tbody>\n",
       "    <tr>\n",
       "      <th>0</th>\n",
       "      <td>0</td>\n",
       "      <td>2</td>\n",
       "      <td>2.0</td>\n",
       "      <td>1.0</td>\n",
       "      <td>39.07</td>\n",
       "      <td>Alandi Road</td>\n",
       "      <td>0</td>\n",
       "      <td>0</td>\n",
       "      <td>0</td>\n",
       "      <td>1</td>\n",
       "      <td>1056.0</td>\n",
       "    </tr>\n",
       "    <tr>\n",
       "      <th>1</th>\n",
       "      <td>1</td>\n",
       "      <td>4</td>\n",
       "      <td>5.0</td>\n",
       "      <td>3.0</td>\n",
       "      <td>120.00</td>\n",
       "      <td>Ambegaon Budruk</td>\n",
       "      <td>0</td>\n",
       "      <td>0</td>\n",
       "      <td>1</td>\n",
       "      <td>0</td>\n",
       "      <td>2600.0</td>\n",
       "    </tr>\n",
       "    <tr>\n",
       "      <th>2</th>\n",
       "      <td>1</td>\n",
       "      <td>3</td>\n",
       "      <td>2.0</td>\n",
       "      <td>3.0</td>\n",
       "      <td>62.00</td>\n",
       "      <td>Anandnagar</td>\n",
       "      <td>1</td>\n",
       "      <td>0</td>\n",
       "      <td>0</td>\n",
       "      <td>0</td>\n",
       "      <td>1440.0</td>\n",
       "    </tr>\n",
       "    <tr>\n",
       "      <th>3</th>\n",
       "      <td>1</td>\n",
       "      <td>3</td>\n",
       "      <td>3.0</td>\n",
       "      <td>1.0</td>\n",
       "      <td>95.00</td>\n",
       "      <td>Aundh</td>\n",
       "      <td>0</td>\n",
       "      <td>0</td>\n",
       "      <td>0</td>\n",
       "      <td>1</td>\n",
       "      <td>1521.0</td>\n",
       "    </tr>\n",
       "    <tr>\n",
       "      <th>4</th>\n",
       "      <td>1</td>\n",
       "      <td>2</td>\n",
       "      <td>2.0</td>\n",
       "      <td>1.0</td>\n",
       "      <td>51.00</td>\n",
       "      <td>Aundh Road</td>\n",
       "      <td>0</td>\n",
       "      <td>0</td>\n",
       "      <td>0</td>\n",
       "      <td>1</td>\n",
       "      <td>1200.0</td>\n",
       "    </tr>\n",
       "    <tr>\n",
       "      <th>...</th>\n",
       "      <td>...</td>\n",
       "      <td>...</td>\n",
       "      <td>...</td>\n",
       "      <td>...</td>\n",
       "      <td>...</td>\n",
       "      <td>...</td>\n",
       "      <td>...</td>\n",
       "      <td>...</td>\n",
       "      <td>...</td>\n",
       "      <td>...</td>\n",
       "      <td>...</td>\n",
       "    </tr>\n",
       "    <tr>\n",
       "      <th>13315</th>\n",
       "      <td>1</td>\n",
       "      <td>5</td>\n",
       "      <td>4.0</td>\n",
       "      <td>0.0</td>\n",
       "      <td>231.00</td>\n",
       "      <td>Pashan</td>\n",
       "      <td>1</td>\n",
       "      <td>0</td>\n",
       "      <td>0</td>\n",
       "      <td>0</td>\n",
       "      <td>3453.0</td>\n",
       "    </tr>\n",
       "    <tr>\n",
       "      <th>13316</th>\n",
       "      <td>1</td>\n",
       "      <td>4</td>\n",
       "      <td>5.0</td>\n",
       "      <td>NaN</td>\n",
       "      <td>400.00</td>\n",
       "      <td>Paud Road</td>\n",
       "      <td>0</td>\n",
       "      <td>0</td>\n",
       "      <td>0</td>\n",
       "      <td>1</td>\n",
       "      <td>3600.0</td>\n",
       "    </tr>\n",
       "    <tr>\n",
       "      <th>13317</th>\n",
       "      <td>1</td>\n",
       "      <td>2</td>\n",
       "      <td>2.0</td>\n",
       "      <td>1.0</td>\n",
       "      <td>60.00</td>\n",
       "      <td>Pirangut</td>\n",
       "      <td>1</td>\n",
       "      <td>0</td>\n",
       "      <td>0</td>\n",
       "      <td>0</td>\n",
       "      <td>1141.0</td>\n",
       "    </tr>\n",
       "    <tr>\n",
       "      <th>13318</th>\n",
       "      <td>0</td>\n",
       "      <td>4</td>\n",
       "      <td>4.0</td>\n",
       "      <td>1.0</td>\n",
       "      <td>488.00</td>\n",
       "      <td>Prabhat Road</td>\n",
       "      <td>0</td>\n",
       "      <td>0</td>\n",
       "      <td>0</td>\n",
       "      <td>1</td>\n",
       "      <td>4689.0</td>\n",
       "    </tr>\n",
       "    <tr>\n",
       "      <th>13319</th>\n",
       "      <td>1</td>\n",
       "      <td>1</td>\n",
       "      <td>1.0</td>\n",
       "      <td>1.0</td>\n",
       "      <td>17.00</td>\n",
       "      <td>Pune Railway Station</td>\n",
       "      <td>0</td>\n",
       "      <td>0</td>\n",
       "      <td>0</td>\n",
       "      <td>1</td>\n",
       "      <td>550.0</td>\n",
       "    </tr>\n",
       "  </tbody>\n",
       "</table>\n",
       "<p>13320 rows × 11 columns</p>\n",
       "</div>"
      ],
      "text/plain": [
       "       availability  size  bath  balcony   price         site_location  \\\n",
       "0                 0     2   2.0      1.0   39.07           Alandi Road   \n",
       "1                 1     4   5.0      3.0  120.00       Ambegaon Budruk   \n",
       "2                 1     3   2.0      3.0   62.00            Anandnagar   \n",
       "3                 1     3   3.0      1.0   95.00                 Aundh   \n",
       "4                 1     2   2.0      1.0   51.00            Aundh Road   \n",
       "...             ...   ...   ...      ...     ...                   ...   \n",
       "13315             1     5   4.0      0.0  231.00                Pashan   \n",
       "13316             1     4   5.0      NaN  400.00             Paud Road   \n",
       "13317             1     2   2.0      1.0   60.00              Pirangut   \n",
       "13318             0     4   4.0      1.0  488.00          Prabhat Road   \n",
       "13319             1     1   1.0      1.0   17.00  Pune Railway Station   \n",
       "\n",
       "       area_type_Built-up  Area  area_type_Carpet  Area  area_type_Plot  Area  \\\n",
       "0                             0                       0                     0   \n",
       "1                             0                       0                     1   \n",
       "2                             1                       0                     0   \n",
       "3                             0                       0                     0   \n",
       "4                             0                       0                     0   \n",
       "...                         ...                     ...                   ...   \n",
       "13315                         1                       0                     0   \n",
       "13316                         0                       0                     0   \n",
       "13317                         1                       0                     0   \n",
       "13318                         0                       0                     0   \n",
       "13319                         0                       0                     0   \n",
       "\n",
       "       area_type_Super built-up  Area  new_total_sqft  \n",
       "0                                   1          1056.0  \n",
       "1                                   0          2600.0  \n",
       "2                                   0          1440.0  \n",
       "3                                   1          1521.0  \n",
       "4                                   1          1200.0  \n",
       "...                               ...             ...  \n",
       "13315                               0          3453.0  \n",
       "13316                               1          3600.0  \n",
       "13317                               0          1141.0  \n",
       "13318                               1          4689.0  \n",
       "13319                               1           550.0  \n",
       "\n",
       "[13320 rows x 11 columns]"
      ]
     },
     "execution_count": 39,
     "metadata": {},
     "output_type": "execute_result"
    }
   ],
   "source": [
    "# Converting the range values to integer values and removing other types of error\n",
    "def convert_sqft_to_num(x):\n",
    "    tokens = x.split('-')\n",
    "    if len(tokens) == 2:\n",
    "        return (float(tokens[0])+float(tokens[1]))/2\n",
    "    try:\n",
    "        return float(x)\n",
    "    except:\n",
    "        return None\n",
    "    \n",
    "df['new_total_sqft'] = df.total_sqft.apply(convert_sqft_to_num)\n",
    "df = df.drop('total_sqft', axis='columns')\n",
    "df\n"
   ]
  },
  {
   "cell_type": "code",
   "execution_count": 40,
   "id": "a00f0c1e",
   "metadata": {},
   "outputs": [],
   "source": [
    "df['new_total_sqft'].fillna(df['new_total_sqft'].median(),inplace=True)"
   ]
  },
  {
   "cell_type": "code",
   "execution_count": 41,
   "id": "c872ecbd",
   "metadata": {},
   "outputs": [
    {
     "data": {
      "text/plain": [
       "0        1056.0\n",
       "1        2600.0\n",
       "2        1440.0\n",
       "3        1521.0\n",
       "4        1200.0\n",
       "          ...  \n",
       "13315    3453.0\n",
       "13316    3600.0\n",
       "13317    1141.0\n",
       "13318    4689.0\n",
       "13319     550.0\n",
       "Name: new_total_sqft, Length: 13320, dtype: float64"
      ]
     },
     "execution_count": 41,
     "metadata": {},
     "output_type": "execute_result"
    }
   ],
   "source": [
    "df['new_total_sqft']"
   ]
  },
  {
   "cell_type": "code",
   "execution_count": 42,
   "id": "0094bce1",
   "metadata": {},
   "outputs": [
    {
     "data": {
      "text/plain": [
       "0"
      ]
     },
     "execution_count": 42,
     "metadata": {},
     "output_type": "execute_result"
    }
   ],
   "source": [
    "df['new_total_sqft'].isna().sum()"
   ]
  },
  {
   "cell_type": "code",
   "execution_count": 43,
   "id": "7f6378b6",
   "metadata": {},
   "outputs": [
    {
     "name": "stdout",
     "output_type": "stream",
     "text": [
      "<class 'pandas.core.series.Series'>\n",
      "RangeIndex: 13320 entries, 0 to 13319\n",
      "Series name: new_total_sqft\n",
      "Non-Null Count  Dtype  \n",
      "--------------  -----  \n",
      "13320 non-null  float64\n",
      "dtypes: float64(1)\n",
      "memory usage: 104.2 KB\n"
     ]
    }
   ],
   "source": [
    "df['new_total_sqft'].info()"
   ]
  },
  {
   "cell_type": "code",
   "execution_count": 44,
   "id": "bbbc7fe9",
   "metadata": {},
   "outputs": [
    {
     "name": "stdout",
     "output_type": "stream",
     "text": [
      "<class 'pandas.core.frame.DataFrame'>\n",
      "RangeIndex: 13320 entries, 0 to 13319\n",
      "Data columns (total 11 columns):\n",
      " #   Column                          Non-Null Count  Dtype  \n",
      "---  ------                          --------------  -----  \n",
      " 0   availability                    13320 non-null  int64  \n",
      " 1   size                            13320 non-null  int64  \n",
      " 2   bath                            13247 non-null  float64\n",
      " 3   balcony                         12711 non-null  float64\n",
      " 4   price                           13320 non-null  float64\n",
      " 5   site_location                   13319 non-null  object \n",
      " 6   area_type_Built-up  Area        13320 non-null  uint8  \n",
      " 7   area_type_Carpet  Area          13320 non-null  uint8  \n",
      " 8   area_type_Plot  Area            13320 non-null  uint8  \n",
      " 9   area_type_Super built-up  Area  13320 non-null  uint8  \n",
      " 10  new_total_sqft                  13320 non-null  float64\n",
      "dtypes: float64(4), int64(2), object(1), uint8(4)\n",
      "memory usage: 780.6+ KB\n"
     ]
    }
   ],
   "source": [
    "df.info()"
   ]
  },
  {
   "cell_type": "markdown",
   "id": "019b99d0",
   "metadata": {},
   "source": [
    "### 3.6 bath"
   ]
  },
  {
   "cell_type": "code",
   "execution_count": 45,
   "id": "5c20a57a",
   "metadata": {},
   "outputs": [
    {
     "data": {
      "text/plain": [
       "73"
      ]
     },
     "execution_count": 45,
     "metadata": {},
     "output_type": "execute_result"
    }
   ],
   "source": [
    "df['bath'].isna().sum()"
   ]
  },
  {
   "cell_type": "code",
   "execution_count": 46,
   "id": "4fb086f4",
   "metadata": {},
   "outputs": [],
   "source": [
    "df['bath'].fillna(df['bath'].median(),inplace=True) #impute missing values by median"
   ]
  },
  {
   "cell_type": "code",
   "execution_count": 47,
   "id": "aeacb1f2",
   "metadata": {},
   "outputs": [
    {
     "data": {
      "text/plain": [
       "0"
      ]
     },
     "execution_count": 47,
     "metadata": {},
     "output_type": "execute_result"
    }
   ],
   "source": [
    "df['bath'].isna().sum()"
   ]
  },
  {
   "cell_type": "raw",
   "id": "434c5833",
   "metadata": {},
   "source": [
    "df.info()"
   ]
  },
  {
   "cell_type": "markdown",
   "id": "f225d66b",
   "metadata": {},
   "source": [
    "### 3.7 balcony"
   ]
  },
  {
   "cell_type": "code",
   "execution_count": 48,
   "id": "aab42e8a",
   "metadata": {},
   "outputs": [
    {
     "data": {
      "text/plain": [
       "609"
      ]
     },
     "execution_count": 48,
     "metadata": {},
     "output_type": "execute_result"
    }
   ],
   "source": [
    "df['balcony'].isna().sum()"
   ]
  },
  {
   "cell_type": "code",
   "execution_count": 49,
   "id": "e180101c",
   "metadata": {},
   "outputs": [
    {
     "data": {
      "text/plain": [
       "2.0"
      ]
     },
     "execution_count": 49,
     "metadata": {},
     "output_type": "execute_result"
    }
   ],
   "source": [
    "df['balcony'].median()"
   ]
  },
  {
   "cell_type": "code",
   "execution_count": 50,
   "id": "b03da91f",
   "metadata": {},
   "outputs": [
    {
     "data": {
      "text/plain": [
       "1.5843757375501535"
      ]
     },
     "execution_count": 50,
     "metadata": {},
     "output_type": "execute_result"
    }
   ],
   "source": [
    "df['balcony'].mean()"
   ]
  },
  {
   "cell_type": "code",
   "execution_count": 51,
   "id": "c64bfdfb",
   "metadata": {},
   "outputs": [],
   "source": [
    "df['balcony'].fillna(df['balcony'].median(),inplace=True)#impute missing values by median"
   ]
  },
  {
   "cell_type": "code",
   "execution_count": 52,
   "id": "9bf22a62",
   "metadata": {},
   "outputs": [
    {
     "data": {
      "text/plain": [
       "0"
      ]
     },
     "execution_count": 52,
     "metadata": {},
     "output_type": "execute_result"
    }
   ],
   "source": [
    "df['balcony'].isna().sum()"
   ]
  },
  {
   "cell_type": "code",
   "execution_count": 53,
   "id": "fa241ea7",
   "metadata": {
    "scrolled": false
   },
   "outputs": [
    {
     "name": "stdout",
     "output_type": "stream",
     "text": [
      "<class 'pandas.core.frame.DataFrame'>\n",
      "RangeIndex: 13320 entries, 0 to 13319\n",
      "Data columns (total 11 columns):\n",
      " #   Column                          Non-Null Count  Dtype  \n",
      "---  ------                          --------------  -----  \n",
      " 0   availability                    13320 non-null  int64  \n",
      " 1   size                            13320 non-null  int64  \n",
      " 2   bath                            13320 non-null  float64\n",
      " 3   balcony                         13320 non-null  float64\n",
      " 4   price                           13320 non-null  float64\n",
      " 5   site_location                   13319 non-null  object \n",
      " 6   area_type_Built-up  Area        13320 non-null  uint8  \n",
      " 7   area_type_Carpet  Area          13320 non-null  uint8  \n",
      " 8   area_type_Plot  Area            13320 non-null  uint8  \n",
      " 9   area_type_Super built-up  Area  13320 non-null  uint8  \n",
      " 10  new_total_sqft                  13320 non-null  float64\n",
      "dtypes: float64(4), int64(2), object(1), uint8(4)\n",
      "memory usage: 780.6+ KB\n"
     ]
    }
   ],
   "source": [
    "df.info()"
   ]
  },
  {
   "cell_type": "markdown",
   "id": "b86d9193",
   "metadata": {},
   "source": [
    "###  3.8 price"
   ]
  },
  {
   "cell_type": "code",
   "execution_count": 54,
   "id": "cf97941e",
   "metadata": {
    "scrolled": true
   },
   "outputs": [
    {
     "data": {
      "text/plain": [
       "0"
      ]
     },
     "execution_count": 54,
     "metadata": {},
     "output_type": "execute_result"
    }
   ],
   "source": [
    "df['price'].isna().sum()"
   ]
  },
  {
   "cell_type": "markdown",
   "id": "ca63cf56",
   "metadata": {},
   "source": [
    "### 3.9 site_location"
   ]
  },
  {
   "cell_type": "code",
   "execution_count": 55,
   "id": "5a5ab790",
   "metadata": {},
   "outputs": [
    {
     "data": {
      "text/plain": [
       "1"
      ]
     },
     "execution_count": 55,
     "metadata": {},
     "output_type": "execute_result"
    }
   ],
   "source": [
    "df['site_location'].isna().sum()"
   ]
  },
  {
   "cell_type": "code",
   "execution_count": 56,
   "id": "b3979864",
   "metadata": {},
   "outputs": [
    {
     "data": {
      "text/plain": [
       "array(['Alandi Road', 'Ambegaon Budruk', 'Anandnagar', 'Aundh',\n",
       "       'Aundh Road', 'Balaji Nagar', 'Baner', 'Baner road',\n",
       "       'Bhandarkar Road', 'Bhavani Peth', 'Bibvewadi', 'Bopodi',\n",
       "       'Budhwar Peth', 'Bund Garden Road', 'Camp', 'Chandan Nagar',\n",
       "       'Dapodi', 'Deccan Gymkhana', 'Dehu Road', 'Dhankawadi',\n",
       "       'Dhayari Phata', 'Dhole Patil Road', 'Erandwane', 'Fatima Nagar',\n",
       "       'Fergusson College Road', 'Ganesh Peth', 'Ganeshkhind',\n",
       "       'Ghorpade Peth', 'other', 'Gokhale Nagar', 'Gultekdi',\n",
       "       'Guruwar peth', 'Hadapsar', 'Hadapsar Industrial Estate',\n",
       "       'Hingne Khurd', 'Jangali Maharaj Road', 'Kalyani Nagar',\n",
       "       'Karve Nagar', 'Karve Road', 'Kasba Peth', 'Katraj', 'Khadaki',\n",
       "       'Khadki', 'Kharadi', 'Kondhwa', 'Kondhwa Budruk', 'Kondhwa Khurd',\n",
       "       'Koregaon Park', 'Kothrud', 'Law College Road', 'Laxmi Road',\n",
       "       'Lulla Nagar', 'Mahatma Gandhi Road', 'Mangalwar peth',\n",
       "       'Manik Bagh', 'Market yard', 'Model colony', 'Mukund Nagar',\n",
       "       'Mundhawa', 'Nagar Road', 'Nana Peth', 'Narayan Peth',\n",
       "       'Narayangaon', 'Navi Peth', 'Padmavati', 'Parvati Darshan',\n",
       "       'Pashan', 'Paud Road', 'Pirangut', 'Prabhat Road',\n",
       "       'Pune Railway Station', 'Rasta Peth', 'Raviwar Peth',\n",
       "       'Sadashiv Peth', 'Sahakar Nagar', 'Salunke Vihar', 'Sasson Road',\n",
       "       'Satara Road', 'Senapati Bapat Road', 'Shaniwar Peth',\n",
       "       'Shivaji Nagar', 'Shukrawar Peth', 'Sinhagad Road', 'Somwar Peth',\n",
       "       'Swargate', 'Tilak Road', 'Uruli Devachi', 'Vadgaon Budruk',\n",
       "       'Wadgaon Sheri', 'Viman Nagar', 'Vishrant Wadi', 'Wagholi',\n",
       "       'Wakadewadi', 'Wanowrie', 'Warje', 'Yerawada', 'Ghorpadi', nan],\n",
       "      dtype=object)"
      ]
     },
     "execution_count": 56,
     "metadata": {},
     "output_type": "execute_result"
    }
   ],
   "source": [
    "site_location1 = df['site_location'].unique() # so many categories in this column so we replace dtype object as unit8 by using onehot encoding\n",
    "site_location1"
   ]
  },
  {
   "cell_type": "code",
   "execution_count": 57,
   "id": "dce9af76",
   "metadata": {},
   "outputs": [
    {
     "data": {
      "text/html": [
       "<div>\n",
       "<style scoped>\n",
       "    .dataframe tbody tr th:only-of-type {\n",
       "        vertical-align: middle;\n",
       "    }\n",
       "\n",
       "    .dataframe tbody tr th {\n",
       "        vertical-align: top;\n",
       "    }\n",
       "\n",
       "    .dataframe thead th {\n",
       "        text-align: right;\n",
       "    }\n",
       "</style>\n",
       "<table border=\"1\" class=\"dataframe\">\n",
       "  <thead>\n",
       "    <tr style=\"text-align: right;\">\n",
       "      <th></th>\n",
       "      <th>availability</th>\n",
       "      <th>size</th>\n",
       "      <th>bath</th>\n",
       "      <th>balcony</th>\n",
       "      <th>price</th>\n",
       "      <th>area_type_Built-up  Area</th>\n",
       "      <th>area_type_Carpet  Area</th>\n",
       "      <th>area_type_Plot  Area</th>\n",
       "      <th>area_type_Super built-up  Area</th>\n",
       "      <th>new_total_sqft</th>\n",
       "      <th>...</th>\n",
       "      <th>site_location_Vadgaon Budruk</th>\n",
       "      <th>site_location_Viman Nagar</th>\n",
       "      <th>site_location_Vishrant Wadi</th>\n",
       "      <th>site_location_Wadgaon Sheri</th>\n",
       "      <th>site_location_Wagholi</th>\n",
       "      <th>site_location_Wakadewadi</th>\n",
       "      <th>site_location_Wanowrie</th>\n",
       "      <th>site_location_Warje</th>\n",
       "      <th>site_location_Yerawada</th>\n",
       "      <th>site_location_other</th>\n",
       "    </tr>\n",
       "  </thead>\n",
       "  <tbody>\n",
       "    <tr>\n",
       "      <th>0</th>\n",
       "      <td>0</td>\n",
       "      <td>2</td>\n",
       "      <td>2.0</td>\n",
       "      <td>1.0</td>\n",
       "      <td>39.07</td>\n",
       "      <td>0</td>\n",
       "      <td>0</td>\n",
       "      <td>0</td>\n",
       "      <td>1</td>\n",
       "      <td>1056.0</td>\n",
       "      <td>...</td>\n",
       "      <td>0</td>\n",
       "      <td>0</td>\n",
       "      <td>0</td>\n",
       "      <td>0</td>\n",
       "      <td>0</td>\n",
       "      <td>0</td>\n",
       "      <td>0</td>\n",
       "      <td>0</td>\n",
       "      <td>0</td>\n",
       "      <td>0</td>\n",
       "    </tr>\n",
       "    <tr>\n",
       "      <th>1</th>\n",
       "      <td>1</td>\n",
       "      <td>4</td>\n",
       "      <td>5.0</td>\n",
       "      <td>3.0</td>\n",
       "      <td>120.00</td>\n",
       "      <td>0</td>\n",
       "      <td>0</td>\n",
       "      <td>1</td>\n",
       "      <td>0</td>\n",
       "      <td>2600.0</td>\n",
       "      <td>...</td>\n",
       "      <td>0</td>\n",
       "      <td>0</td>\n",
       "      <td>0</td>\n",
       "      <td>0</td>\n",
       "      <td>0</td>\n",
       "      <td>0</td>\n",
       "      <td>0</td>\n",
       "      <td>0</td>\n",
       "      <td>0</td>\n",
       "      <td>0</td>\n",
       "    </tr>\n",
       "    <tr>\n",
       "      <th>2</th>\n",
       "      <td>1</td>\n",
       "      <td>3</td>\n",
       "      <td>2.0</td>\n",
       "      <td>3.0</td>\n",
       "      <td>62.00</td>\n",
       "      <td>1</td>\n",
       "      <td>0</td>\n",
       "      <td>0</td>\n",
       "      <td>0</td>\n",
       "      <td>1440.0</td>\n",
       "      <td>...</td>\n",
       "      <td>0</td>\n",
       "      <td>0</td>\n",
       "      <td>0</td>\n",
       "      <td>0</td>\n",
       "      <td>0</td>\n",
       "      <td>0</td>\n",
       "      <td>0</td>\n",
       "      <td>0</td>\n",
       "      <td>0</td>\n",
       "      <td>0</td>\n",
       "    </tr>\n",
       "    <tr>\n",
       "      <th>3</th>\n",
       "      <td>1</td>\n",
       "      <td>3</td>\n",
       "      <td>3.0</td>\n",
       "      <td>1.0</td>\n",
       "      <td>95.00</td>\n",
       "      <td>0</td>\n",
       "      <td>0</td>\n",
       "      <td>0</td>\n",
       "      <td>1</td>\n",
       "      <td>1521.0</td>\n",
       "      <td>...</td>\n",
       "      <td>0</td>\n",
       "      <td>0</td>\n",
       "      <td>0</td>\n",
       "      <td>0</td>\n",
       "      <td>0</td>\n",
       "      <td>0</td>\n",
       "      <td>0</td>\n",
       "      <td>0</td>\n",
       "      <td>0</td>\n",
       "      <td>0</td>\n",
       "    </tr>\n",
       "    <tr>\n",
       "      <th>4</th>\n",
       "      <td>1</td>\n",
       "      <td>2</td>\n",
       "      <td>2.0</td>\n",
       "      <td>1.0</td>\n",
       "      <td>51.00</td>\n",
       "      <td>0</td>\n",
       "      <td>0</td>\n",
       "      <td>0</td>\n",
       "      <td>1</td>\n",
       "      <td>1200.0</td>\n",
       "      <td>...</td>\n",
       "      <td>0</td>\n",
       "      <td>0</td>\n",
       "      <td>0</td>\n",
       "      <td>0</td>\n",
       "      <td>0</td>\n",
       "      <td>0</td>\n",
       "      <td>0</td>\n",
       "      <td>0</td>\n",
       "      <td>0</td>\n",
       "      <td>0</td>\n",
       "    </tr>\n",
       "    <tr>\n",
       "      <th>...</th>\n",
       "      <td>...</td>\n",
       "      <td>...</td>\n",
       "      <td>...</td>\n",
       "      <td>...</td>\n",
       "      <td>...</td>\n",
       "      <td>...</td>\n",
       "      <td>...</td>\n",
       "      <td>...</td>\n",
       "      <td>...</td>\n",
       "      <td>...</td>\n",
       "      <td>...</td>\n",
       "      <td>...</td>\n",
       "      <td>...</td>\n",
       "      <td>...</td>\n",
       "      <td>...</td>\n",
       "      <td>...</td>\n",
       "      <td>...</td>\n",
       "      <td>...</td>\n",
       "      <td>...</td>\n",
       "      <td>...</td>\n",
       "      <td>...</td>\n",
       "    </tr>\n",
       "    <tr>\n",
       "      <th>13315</th>\n",
       "      <td>1</td>\n",
       "      <td>5</td>\n",
       "      <td>4.0</td>\n",
       "      <td>0.0</td>\n",
       "      <td>231.00</td>\n",
       "      <td>1</td>\n",
       "      <td>0</td>\n",
       "      <td>0</td>\n",
       "      <td>0</td>\n",
       "      <td>3453.0</td>\n",
       "      <td>...</td>\n",
       "      <td>0</td>\n",
       "      <td>0</td>\n",
       "      <td>0</td>\n",
       "      <td>0</td>\n",
       "      <td>0</td>\n",
       "      <td>0</td>\n",
       "      <td>0</td>\n",
       "      <td>0</td>\n",
       "      <td>0</td>\n",
       "      <td>0</td>\n",
       "    </tr>\n",
       "    <tr>\n",
       "      <th>13316</th>\n",
       "      <td>1</td>\n",
       "      <td>4</td>\n",
       "      <td>5.0</td>\n",
       "      <td>2.0</td>\n",
       "      <td>400.00</td>\n",
       "      <td>0</td>\n",
       "      <td>0</td>\n",
       "      <td>0</td>\n",
       "      <td>1</td>\n",
       "      <td>3600.0</td>\n",
       "      <td>...</td>\n",
       "      <td>0</td>\n",
       "      <td>0</td>\n",
       "      <td>0</td>\n",
       "      <td>0</td>\n",
       "      <td>0</td>\n",
       "      <td>0</td>\n",
       "      <td>0</td>\n",
       "      <td>0</td>\n",
       "      <td>0</td>\n",
       "      <td>0</td>\n",
       "    </tr>\n",
       "    <tr>\n",
       "      <th>13317</th>\n",
       "      <td>1</td>\n",
       "      <td>2</td>\n",
       "      <td>2.0</td>\n",
       "      <td>1.0</td>\n",
       "      <td>60.00</td>\n",
       "      <td>1</td>\n",
       "      <td>0</td>\n",
       "      <td>0</td>\n",
       "      <td>0</td>\n",
       "      <td>1141.0</td>\n",
       "      <td>...</td>\n",
       "      <td>0</td>\n",
       "      <td>0</td>\n",
       "      <td>0</td>\n",
       "      <td>0</td>\n",
       "      <td>0</td>\n",
       "      <td>0</td>\n",
       "      <td>0</td>\n",
       "      <td>0</td>\n",
       "      <td>0</td>\n",
       "      <td>0</td>\n",
       "    </tr>\n",
       "    <tr>\n",
       "      <th>13318</th>\n",
       "      <td>0</td>\n",
       "      <td>4</td>\n",
       "      <td>4.0</td>\n",
       "      <td>1.0</td>\n",
       "      <td>488.00</td>\n",
       "      <td>0</td>\n",
       "      <td>0</td>\n",
       "      <td>0</td>\n",
       "      <td>1</td>\n",
       "      <td>4689.0</td>\n",
       "      <td>...</td>\n",
       "      <td>0</td>\n",
       "      <td>0</td>\n",
       "      <td>0</td>\n",
       "      <td>0</td>\n",
       "      <td>0</td>\n",
       "      <td>0</td>\n",
       "      <td>0</td>\n",
       "      <td>0</td>\n",
       "      <td>0</td>\n",
       "      <td>0</td>\n",
       "    </tr>\n",
       "    <tr>\n",
       "      <th>13319</th>\n",
       "      <td>1</td>\n",
       "      <td>1</td>\n",
       "      <td>1.0</td>\n",
       "      <td>1.0</td>\n",
       "      <td>17.00</td>\n",
       "      <td>0</td>\n",
       "      <td>0</td>\n",
       "      <td>0</td>\n",
       "      <td>1</td>\n",
       "      <td>550.0</td>\n",
       "      <td>...</td>\n",
       "      <td>0</td>\n",
       "      <td>0</td>\n",
       "      <td>0</td>\n",
       "      <td>0</td>\n",
       "      <td>0</td>\n",
       "      <td>0</td>\n",
       "      <td>0</td>\n",
       "      <td>0</td>\n",
       "      <td>0</td>\n",
       "      <td>0</td>\n",
       "    </tr>\n",
       "  </tbody>\n",
       "</table>\n",
       "<p>13320 rows × 107 columns</p>\n",
       "</div>"
      ],
      "text/plain": [
       "       availability  size  bath  balcony   price  area_type_Built-up  Area  \\\n",
       "0                 0     2   2.0      1.0   39.07                         0   \n",
       "1                 1     4   5.0      3.0  120.00                         0   \n",
       "2                 1     3   2.0      3.0   62.00                         1   \n",
       "3                 1     3   3.0      1.0   95.00                         0   \n",
       "4                 1     2   2.0      1.0   51.00                         0   \n",
       "...             ...   ...   ...      ...     ...                       ...   \n",
       "13315             1     5   4.0      0.0  231.00                         1   \n",
       "13316             1     4   5.0      2.0  400.00                         0   \n",
       "13317             1     2   2.0      1.0   60.00                         1   \n",
       "13318             0     4   4.0      1.0  488.00                         0   \n",
       "13319             1     1   1.0      1.0   17.00                         0   \n",
       "\n",
       "       area_type_Carpet  Area  area_type_Plot  Area  \\\n",
       "0                           0                     0   \n",
       "1                           0                     1   \n",
       "2                           0                     0   \n",
       "3                           0                     0   \n",
       "4                           0                     0   \n",
       "...                       ...                   ...   \n",
       "13315                       0                     0   \n",
       "13316                       0                     0   \n",
       "13317                       0                     0   \n",
       "13318                       0                     0   \n",
       "13319                       0                     0   \n",
       "\n",
       "       area_type_Super built-up  Area  new_total_sqft  ...  \\\n",
       "0                                   1          1056.0  ...   \n",
       "1                                   0          2600.0  ...   \n",
       "2                                   0          1440.0  ...   \n",
       "3                                   1          1521.0  ...   \n",
       "4                                   1          1200.0  ...   \n",
       "...                               ...             ...  ...   \n",
       "13315                               0          3453.0  ...   \n",
       "13316                               1          3600.0  ...   \n",
       "13317                               0          1141.0  ...   \n",
       "13318                               1          4689.0  ...   \n",
       "13319                               1           550.0  ...   \n",
       "\n",
       "       site_location_Vadgaon Budruk  site_location_Viman Nagar  \\\n",
       "0                                 0                          0   \n",
       "1                                 0                          0   \n",
       "2                                 0                          0   \n",
       "3                                 0                          0   \n",
       "4                                 0                          0   \n",
       "...                             ...                        ...   \n",
       "13315                             0                          0   \n",
       "13316                             0                          0   \n",
       "13317                             0                          0   \n",
       "13318                             0                          0   \n",
       "13319                             0                          0   \n",
       "\n",
       "       site_location_Vishrant Wadi  site_location_Wadgaon Sheri  \\\n",
       "0                                0                            0   \n",
       "1                                0                            0   \n",
       "2                                0                            0   \n",
       "3                                0                            0   \n",
       "4                                0                            0   \n",
       "...                            ...                          ...   \n",
       "13315                            0                            0   \n",
       "13316                            0                            0   \n",
       "13317                            0                            0   \n",
       "13318                            0                            0   \n",
       "13319                            0                            0   \n",
       "\n",
       "       site_location_Wagholi  site_location_Wakadewadi  \\\n",
       "0                          0                         0   \n",
       "1                          0                         0   \n",
       "2                          0                         0   \n",
       "3                          0                         0   \n",
       "4                          0                         0   \n",
       "...                      ...                       ...   \n",
       "13315                      0                         0   \n",
       "13316                      0                         0   \n",
       "13317                      0                         0   \n",
       "13318                      0                         0   \n",
       "13319                      0                         0   \n",
       "\n",
       "       site_location_Wanowrie  site_location_Warje  site_location_Yerawada  \\\n",
       "0                           0                    0                       0   \n",
       "1                           0                    0                       0   \n",
       "2                           0                    0                       0   \n",
       "3                           0                    0                       0   \n",
       "4                           0                    0                       0   \n",
       "...                       ...                  ...                     ...   \n",
       "13315                       0                    0                       0   \n",
       "13316                       0                    0                       0   \n",
       "13317                       0                    0                       0   \n",
       "13318                       0                    0                       0   \n",
       "13319                       0                    0                       0   \n",
       "\n",
       "       site_location_other  \n",
       "0                        0  \n",
       "1                        0  \n",
       "2                        0  \n",
       "3                        0  \n",
       "4                        0  \n",
       "...                    ...  \n",
       "13315                    0  \n",
       "13316                    0  \n",
       "13317                    0  \n",
       "13318                    0  \n",
       "13319                    0  \n",
       "\n",
       "[13320 rows x 107 columns]"
      ]
     },
     "execution_count": 57,
     "metadata": {},
     "output_type": "execute_result"
    }
   ],
   "source": [
    "#OneHotEncoding\n",
    "df = pd.get_dummies(df, columns=['site_location'])\n",
    "df"
   ]
  },
  {
   "cell_type": "code",
   "execution_count": 58,
   "id": "19df2542",
   "metadata": {},
   "outputs": [
    {
     "name": "stdout",
     "output_type": "stream",
     "text": [
      "<class 'pandas.core.frame.DataFrame'>\n",
      "RangeIndex: 13320 entries, 0 to 13319\n",
      "Columns: 107 entries, availability to site_location_other\n",
      "dtypes: float64(4), int64(2), uint8(101)\n",
      "memory usage: 1.9 MB\n"
     ]
    }
   ],
   "source": [
    "df.info()"
   ]
  },
  {
   "cell_type": "markdown",
   "id": "630a8697",
   "metadata": {},
   "source": [
    "## 4. Feature Engineering"
   ]
  },
  {
   "cell_type": "code",
   "execution_count": 59,
   "id": "6b0d513d",
   "metadata": {},
   "outputs": [
    {
     "data": {
      "text/plain": [
       "<AxesSubplot:>"
      ]
     },
     "execution_count": 59,
     "metadata": {},
     "output_type": "execute_result"
    },
    {
     "data": {
      "image/png": "[encoded data removed]",
      "text/plain": [
       "<Figure size 432x288 with 1 Axes>"
      ]
     },
     "metadata": {
      "needs_background": "light"
     },
     "output_type": "display_data"
    }
   ],
   "source": [
    "df[['size']].boxplot()"
   ]
  },
  {
   "cell_type": "code",
   "execution_count": 60,
   "id": "82536d71",
   "metadata": {},
   "outputs": [
    {
     "name": "stdout",
     "output_type": "stream",
     "text": [
      "q1--> 2.0\n",
      "q2--> 3.0\n",
      "q3--> 3.0\n",
      "upper_tail--> 4.5\n",
      "lower_tail--> 0.5\n"
     ]
    }
   ],
   "source": [
    "q1=df['size'].quantile(0.25)\n",
    "q2=df['size'].quantile(0.50)\n",
    "q3=df['size'].quantile(0.75)\n",
    "\n",
    "iqr = q3-q1\n",
    "\n",
    "upper_tail=q3 + (1.5*iqr)\n",
    "lower_tail=q1 - (1.5*iqr)\n",
    "\n",
    "print('q1-->',q1)\n",
    "print('q2-->',q2)\n",
    "print('q3-->',q3)\n",
    "print('upper_tail-->',upper_tail)\n",
    "print('lower_tail-->',lower_tail)\n"
   ]
  },
  {
   "cell_type": "code",
   "execution_count": 61,
   "id": "ec340bdb",
   "metadata": {},
   "outputs": [
    {
     "data": {
      "text/plain": [
       "3.0"
      ]
     },
     "execution_count": 61,
     "metadata": {},
     "output_type": "execute_result"
    }
   ],
   "source": [
    "size_df = df[['size']].loc[(df['size'] < upper_tail) & (df['size'] > lower_tail)].median()[0]\n",
    "size_df"
   ]
  },
  {
   "cell_type": "code",
   "execution_count": 62,
   "id": "a0ac6ccd",
   "metadata": {},
   "outputs": [],
   "source": [
    "df[\"size\"].loc[(df[\"size\"]>upper_tail)|(df[\"size\"]<lower_tail)] = size_df"
   ]
  },
  {
   "cell_type": "code",
   "execution_count": 63,
   "id": "bacad024",
   "metadata": {},
   "outputs": [
    {
     "data": {
      "text/plain": [
       "<AxesSubplot:>"
      ]
     },
     "execution_count": 63,
     "metadata": {},
     "output_type": "execute_result"
    },
    {
     "data": {
      "image/png": "[encoded data removed]",
      "text/plain": [
       "<Figure size 432x288 with 1 Axes>"
      ]
     },
     "metadata": {
      "needs_background": "light"
     },
     "output_type": "display_data"
    }
   ],
   "source": [
    "df[['size']].boxplot() #removed outliers by using Imputation Technique"
   ]
  },
  {
   "cell_type": "code",
   "execution_count": 64,
   "id": "60896e40",
   "metadata": {},
   "outputs": [],
   "source": [
    "size_df = df[['size']].loc[(df['size']>upper_tail) & (df['size']<lower_tail)].median()"
   ]
  },
  {
   "cell_type": "code",
   "execution_count": 65,
   "id": "a0e0384d",
   "metadata": {},
   "outputs": [
    {
     "data": {
      "text/plain": [
       "<AxesSubplot:>"
      ]
     },
     "execution_count": 65,
     "metadata": {},
     "output_type": "execute_result"
    },
    {
     "data": {
      "image/png": "[encoded data removed]",
      "text/plain": [
       "<Figure size 432x288 with 1 Axes>"
      ]
     },
     "metadata": {
      "needs_background": "light"
     },
     "output_type": "display_data"
    }
   ],
   "source": [
    "# bath\n",
    "\n",
    "df[['bath']].boxplot()"
   ]
  },
  {
   "cell_type": "code",
   "execution_count": 66,
   "id": "44d31cb3",
   "metadata": {},
   "outputs": [
    {
     "name": "stdout",
     "output_type": "stream",
     "text": [
      "q1--> 2.0\n",
      "q2--> 2.0\n",
      "q3--> 3.0\n",
      "upper_tail--> 4.5\n",
      "lower_tail--> 0.5\n"
     ]
    }
   ],
   "source": [
    "q1=df['bath'].quantile(0.25)\n",
    "q2=df['bath'].quantile(0.50)\n",
    "q3=df['bath'].quantile(0.75)\n",
    "\n",
    "iqr = q3-q1\n",
    "\n",
    "upper_tail=q3 + (1.5*iqr)\n",
    "lower_tail=q1 - (1.5*iqr)\n",
    "\n",
    "print('q1-->',q1)\n",
    "print('q2-->',q2)\n",
    "print('q3-->',q3)\n",
    "print('upper_tail-->',upper_tail)\n",
    "print('lower_tail-->',lower_tail)"
   ]
  },
  {
   "cell_type": "code",
   "execution_count": 67,
   "id": "3713856f",
   "metadata": {},
   "outputs": [
    {
     "data": {
      "text/plain": [
       "2.688813813813814"
      ]
     },
     "execution_count": 67,
     "metadata": {},
     "output_type": "execute_result"
    }
   ],
   "source": [
    "df['bath'].mean()"
   ]
  },
  {
   "cell_type": "code",
   "execution_count": 68,
   "id": "a0561893",
   "metadata": {},
   "outputs": [
    {
     "data": {
      "text/plain": [
       "2.0"
      ]
     },
     "execution_count": 68,
     "metadata": {},
     "output_type": "execute_result"
    }
   ],
   "source": [
    "df['bath'].median()"
   ]
  },
  {
   "cell_type": "code",
   "execution_count": 69,
   "id": "63b7b90f",
   "metadata": {},
   "outputs": [
    {
     "data": {
      "text/plain": [
       "2.0"
      ]
     },
     "execution_count": 69,
     "metadata": {},
     "output_type": "execute_result"
    }
   ],
   "source": [
    "bath_df=df[['bath']].loc[(df['bath'] < upper_tail) & (df['bath'] > lower_tail)].median()[0]\n",
    "bath_df"
   ]
  },
  {
   "cell_type": "code",
   "execution_count": 70,
   "id": "4a305845",
   "metadata": {},
   "outputs": [],
   "source": [
    "df.loc[(df['bath'] > upper_tail) | (df['bath'] < lower_tail), 'bath'] = bath_df"
   ]
  },
  {
   "cell_type": "code",
   "execution_count": 71,
   "id": "08adc9b7",
   "metadata": {},
   "outputs": [
    {
     "data": {
      "text/plain": [
       "<AxesSubplot:>"
      ]
     },
     "execution_count": 71,
     "metadata": {},
     "output_type": "execute_result"
    },
    {
     "data": {
      "image/png": "[encoded data removed]",
      "text/plain": [
       "<Figure size 432x288 with 1 Axes>"
      ]
     },
     "metadata": {
      "needs_background": "light"
     },
     "output_type": "display_data"
    }
   ],
   "source": [
    "df[['bath']].boxplot()"
   ]
  },
  {
   "cell_type": "code",
   "execution_count": 72,
   "id": "2d714040",
   "metadata": {},
   "outputs": [
    {
     "data": {
      "text/plain": [
       "<AxesSubplot:>"
      ]
     },
     "execution_count": 72,
     "metadata": {},
     "output_type": "execute_result"
    },
    {
     "data": {
      "image/png": "[encoded data removed]",
      "text/plain": [
       "<Figure size 432x288 with 1 Axes>"
      ]
     },
     "metadata": {
      "needs_background": "light"
     },
     "output_type": "display_data"
    }
   ],
   "source": [
    "# balcony\n",
    "\n",
    "df[['balcony']].boxplot()"
   ]
  },
  {
   "cell_type": "code",
   "execution_count": 73,
   "id": "ddf3b4d0",
   "metadata": {},
   "outputs": [
    {
     "data": {
      "text/plain": [
       "<AxesSubplot:>"
      ]
     },
     "execution_count": 73,
     "metadata": {},
     "output_type": "execute_result"
    },
    {
     "data": {
      "image/png": "[encoded data removed]",
      "text/plain": [
       "<Figure size 432x288 with 1 Axes>"
      ]
     },
     "metadata": {
      "needs_background": "light"
     },
     "output_type": "display_data"
    }
   ],
   "source": [
    "# new_total_sqft\n",
    "\n",
    "\n",
    "df[['new_total_sqft']].boxplot()"
   ]
  },
  {
   "cell_type": "code",
   "execution_count": 74,
   "id": "3bed95ae",
   "metadata": {},
   "outputs": [
    {
     "name": "stdout",
     "output_type": "stream",
     "text": [
      "q1--> 1100.0\n",
      "q2--> 1276.0\n",
      "q3--> 1678.0\n",
      "upper_tail--> 2545.0\n",
      "lower_tail--> 233.0\n"
     ]
    }
   ],
   "source": [
    "q1=df['new_total_sqft'].quantile(0.25)\n",
    "q2=df['new_total_sqft'].quantile(0.50)\n",
    "q3=df['new_total_sqft'].quantile(0.75)\n",
    "\n",
    "iqr = q3-q1\n",
    "\n",
    "upper_tail=q3 + (1.5*iqr)\n",
    "lower_tail=q1 - (1.5*iqr)\n",
    "\n",
    "print('q1-->',q1)\n",
    "print('q2-->',q2)\n",
    "print('q3-->',q3)\n",
    "print('upper_tail-->',upper_tail)\n",
    "print('lower_tail-->',lower_tail)"
   ]
  },
  {
   "cell_type": "code",
   "execution_count": 75,
   "id": "385d6e74",
   "metadata": {},
   "outputs": [
    {
     "data": {
      "text/plain": [
       "1240.0"
      ]
     },
     "execution_count": 75,
     "metadata": {},
     "output_type": "execute_result"
    }
   ],
   "source": [
    "new_total_df = df[['new_total_sqft']].loc[(df['new_total_sqft'] < upper_tail)&(df['new_total_sqft']> lower_tail)].median()[0]\n",
    "new_total_df"
   ]
  },
  {
   "cell_type": "code",
   "execution_count": 76,
   "id": "7c9ac519",
   "metadata": {},
   "outputs": [],
   "source": [
    "df.loc[(df['new_total_sqft']>upper_tail)|(df['new_total_sqft']<lower_tail)] = new_total_df"
   ]
  },
  {
   "cell_type": "code",
   "execution_count": 77,
   "id": "7f783cc2",
   "metadata": {},
   "outputs": [
    {
     "data": {
      "text/plain": [
       "<AxesSubplot:>"
      ]
     },
     "execution_count": 77,
     "metadata": {},
     "output_type": "execute_result"
    },
    {
     "data": {
      "image/png": "[encoded data removed]",
      "text/plain": [
       "<Figure size 432x288 with 1 Axes>"
      ]
     },
     "metadata": {
      "needs_background": "light"
     },
     "output_type": "display_data"
    }
   ],
   "source": [
    "df[['new_total_sqft']].boxplot()"
   ]
  },
  {
   "cell_type": "code",
   "execution_count": 78,
   "id": "b6752e77",
   "metadata": {},
   "outputs": [],
   "source": [
    "from scipy.stats import zscore\n",
    "z_score = zscore(df['new_total_sqft'])"
   ]
  },
  {
   "cell_type": "code",
   "execution_count": 79,
   "id": "d1c77214",
   "metadata": {},
   "outputs": [
    {
     "data": {
      "text/plain": [
       "<AxesSubplot:xlabel='new_total_sqft'>"
      ]
     },
     "execution_count": 79,
     "metadata": {},
     "output_type": "execute_result"
    },
    {
     "data": {
      "image/png": "[encoded data removed]",
      "text/plain": [
       "<Figure size 432x288 with 1 Axes>"
      ]
     },
     "metadata": {
      "needs_background": "light"
     },
     "output_type": "display_data"
    }
   ],
   "source": [
    "sns.boxenplot(x=z_score)"
   ]
  },
  {
   "cell_type": "code",
   "execution_count": 80,
   "id": "840692e4",
   "metadata": {},
   "outputs": [
    {
     "data": {
      "text/plain": [
       "<AxesSubplot:xlabel='new_total_sqft'>"
      ]
     },
     "execution_count": 80,
     "metadata": {},
     "output_type": "execute_result"
    },
    {
     "data": {
      "image/png": "[encoded data removed]",
      "text/plain": [
       "<Figure size 432x288 with 1 Axes>"
      ]
     },
     "metadata": {
      "needs_background": "light"
     },
     "output_type": "display_data"
    }
   ],
   "source": [
    "sns.boxplot(x=z_score)"
   ]
  },
  {
   "cell_type": "code",
   "execution_count": 81,
   "id": "af99ca93",
   "metadata": {},
   "outputs": [
    {
     "data": {
      "text/plain": [
       "<AxesSubplot:>"
      ]
     },
     "execution_count": 81,
     "metadata": {},
     "output_type": "execute_result"
    },
    {
     "data": {
      "image/png": "[encoded data removed]",
      "text/plain": [
       "<Figure size 432x288 with 1 Axes>"
      ]
     },
     "metadata": {
      "needs_background": "light"
     },
     "output_type": "display_data"
    }
   ],
   "source": [
    "np.reciprocal(df[['new_total_sqft']]).boxplot()"
   ]
  },
  {
   "cell_type": "code",
   "execution_count": 82,
   "id": "54d79845",
   "metadata": {},
   "outputs": [],
   "source": [
    "df[\"new_total_sqft\"].loc[(df[\"new_total_sqft\"]>upper_tail)] = upper_tail"
   ]
  },
  {
   "cell_type": "code",
   "execution_count": 83,
   "id": "eb02ea63",
   "metadata": {},
   "outputs": [
    {
     "data": {
      "text/plain": [
       "<AxesSubplot:>"
      ]
     },
     "execution_count": 83,
     "metadata": {},
     "output_type": "execute_result"
    },
    {
     "data": {
      "image/png": "[encoded data removed]",
      "text/plain": [
       "<Figure size 432x288 with 1 Axes>"
      ]
     },
     "metadata": {
      "needs_background": "light"
     },
     "output_type": "display_data"
    }
   ],
   "source": [
    "df[['new_total_sqft']].boxplot()"
   ]
  },
  {
   "cell_type": "code",
   "execution_count": 84,
   "id": "490303f8",
   "metadata": {},
   "outputs": [],
   "source": [
    "df[\"new_total_sqft\"].loc[(df[\"new_total_sqft\"]>upper_tail)] = lower_tail"
   ]
  },
  {
   "cell_type": "code",
   "execution_count": 85,
   "id": "8459ad37",
   "metadata": {},
   "outputs": [
    {
     "data": {
      "text/plain": [
       "<AxesSubplot:>"
      ]
     },
     "execution_count": 85,
     "metadata": {},
     "output_type": "execute_result"
    },
    {
     "data": {
      "image/png": "[encoded data removed]",
      "text/plain": [
       "<Figure size 432x288 with 1 Axes>"
      ]
     },
     "metadata": {
      "needs_background": "light"
     },
     "output_type": "display_data"
    }
   ],
   "source": [
    "df[['new_total_sqft']].boxplot()"
   ]
  },
  {
   "cell_type": "code",
   "execution_count": 86,
   "id": "806c6d80",
   "metadata": {},
   "outputs": [],
   "source": [
    "new_total_df=df[['new_total_sqft']].loc[(df['new_total_sqft'] < upper_tail) & \n",
    "                                   (df['new_total_sqft'] > lower_tail)].median()[0]\n",
    "\n",
    "\n",
    "df.loc[(df['new_total_sqft'] > upper_tail) |\n",
    "                (df['new_total_sqft'] < lower_tail), 'new_total_sqft'] = new_total_df"
   ]
  },
  {
   "cell_type": "code",
   "execution_count": 87,
   "id": "7c07a9df",
   "metadata": {},
   "outputs": [
    {
     "data": {
      "text/plain": [
       "<AxesSubplot:>"
      ]
     },
     "execution_count": 87,
     "metadata": {},
     "output_type": "execute_result"
    },
    {
     "data": {
      "image/png": "[encoded data removed]",
      "text/plain": [
       "<Figure size 432x288 with 1 Axes>"
      ]
     },
     "metadata": {
      "needs_background": "light"
     },
     "output_type": "display_data"
    }
   ],
   "source": [
    "df[['new_total_sqft']].boxplot()"
   ]
  },
  {
   "cell_type": "code",
   "execution_count": 88,
   "id": "f3c27e2c",
   "metadata": {},
   "outputs": [
    {
     "data": {
      "text/plain": [
       "<AxesSubplot:xlabel='new_total_sqft'>"
      ]
     },
     "execution_count": 88,
     "metadata": {},
     "output_type": "execute_result"
    },
    {
     "data": {
      "image/png": "[encoded data removed]",
      "text/plain": [
       "<Figure size 432x288 with 1 Axes>"
      ]
     },
     "metadata": {
      "needs_background": "light"
     },
     "output_type": "display_data"
    }
   ],
   "source": [
    "sns.boxplot(x = np.cbrt(df['new_total_sqft']))"
   ]
  },
  {
   "cell_type": "code",
   "execution_count": 89,
   "id": "b10bee6e",
   "metadata": {},
   "outputs": [
    {
     "data": {
      "text/plain": [
       "<AxesSubplot:xlabel='new_total_sqft'>"
      ]
     },
     "execution_count": 89,
     "metadata": {},
     "output_type": "execute_result"
    },
    {
     "data": {
      "image/png": "[encoded data removed]",
      "text/plain": [
       "<Figure size 432x288 with 1 Axes>"
      ]
     },
     "metadata": {
      "needs_background": "light"
     },
     "output_type": "display_data"
    }
   ],
   "source": [
    "sns.boxplot(x = np.log(df['new_total_sqft']))"
   ]
  },
  {
   "cell_type": "code",
   "execution_count": 90,
   "id": "7c38de3e",
   "metadata": {},
   "outputs": [
    {
     "data": {
      "text/plain": [
       "<AxesSubplot:>"
      ]
     },
     "execution_count": 90,
     "metadata": {},
     "output_type": "execute_result"
    },
    {
     "data": {
      "image/png": "[encoded data removed]",
      "text/plain": [
       "<Figure size 432x288 with 1 Axes>"
      ]
     },
     "metadata": {
      "needs_background": "light"
     },
     "output_type": "display_data"
    }
   ],
   "source": [
    "df.loc[(df['new_total_sqft'] > upper_tail) |(df['new_total_sqft'] < lower_tail), 'new_total_sqft'] = lower_tail\n",
    "\n",
    "df[['new_total_sqft']].boxplot()"
   ]
  },
  {
   "cell_type": "code",
   "execution_count": 91,
   "id": "fbfbc185",
   "metadata": {
    "scrolled": true
   },
   "outputs": [
    {
     "data": {
      "text/plain": [
       "<AxesSubplot:>"
      ]
     },
     "execution_count": 91,
     "metadata": {},
     "output_type": "execute_result"
    },
    {
     "data": {
      "image/png": "[encoded data removed]",
      "text/plain": [
       "<Figure size 432x288 with 1 Axes>"
      ]
     },
     "metadata": {
      "needs_background": "light"
     },
     "output_type": "display_data"
    }
   ],
   "source": [
    "df.loc[(df['new_total_sqft'] > upper_tail) |\n",
    "                (df['new_total_sqft'] < lower_tail), 'new_total_sqft'] = upper_tail\n",
    "\n",
    "df[['new_total_sqft']].boxplot()"
   ]
  },
  {
   "cell_type": "code",
   "execution_count": 92,
   "id": "e8873d39",
   "metadata": {
    "scrolled": true
   },
   "outputs": [
    {
     "name": "stdout",
     "output_type": "stream",
     "text": [
      "<class 'pandas.core.frame.DataFrame'>\n",
      "RangeIndex: 13320 entries, 0 to 13319\n",
      "Columns: 107 entries, availability to site_location_other\n",
      "dtypes: float64(4), int64(2), uint8(101)\n",
      "memory usage: 1.9 MB\n"
     ]
    }
   ],
   "source": [
    "df.info()"
   ]
  },
  {
   "cell_type": "markdown",
   "id": "4b0ad524",
   "metadata": {},
   "source": [
    "## Checking assumptions of linear model before training model"
   ]
  },
  {
   "cell_type": "markdown",
   "id": "396b6f32",
   "metadata": {},
   "source": [
    "## Linearity"
   ]
  },
  {
   "cell_type": "code",
   "execution_count": 93,
   "id": "122c8f6f",
   "metadata": {},
   "outputs": [
    {
     "data": {
      "text/html": [
       "<div>\n",
       "<style scoped>\n",
       "    .dataframe tbody tr th:only-of-type {\n",
       "        vertical-align: middle;\n",
       "    }\n",
       "\n",
       "    .dataframe tbody tr th {\n",
       "        vertical-align: top;\n",
       "    }\n",
       "\n",
       "    .dataframe thead th {\n",
       "        text-align: right;\n",
       "    }\n",
       "</style>\n",
       "<table border=\"1\" class=\"dataframe\">\n",
       "  <thead>\n",
       "    <tr style=\"text-align: right;\">\n",
       "      <th></th>\n",
       "      <th>availability</th>\n",
       "      <th>size</th>\n",
       "      <th>bath</th>\n",
       "      <th>balcony</th>\n",
       "      <th>price</th>\n",
       "      <th>area_type_Built-up  Area</th>\n",
       "      <th>area_type_Carpet  Area</th>\n",
       "      <th>area_type_Plot  Area</th>\n",
       "      <th>area_type_Super built-up  Area</th>\n",
       "      <th>new_total_sqft</th>\n",
       "      <th>...</th>\n",
       "      <th>site_location_Vadgaon Budruk</th>\n",
       "      <th>site_location_Viman Nagar</th>\n",
       "      <th>site_location_Vishrant Wadi</th>\n",
       "      <th>site_location_Wadgaon Sheri</th>\n",
       "      <th>site_location_Wagholi</th>\n",
       "      <th>site_location_Wakadewadi</th>\n",
       "      <th>site_location_Wanowrie</th>\n",
       "      <th>site_location_Warje</th>\n",
       "      <th>site_location_Yerawada</th>\n",
       "      <th>site_location_other</th>\n",
       "    </tr>\n",
       "  </thead>\n",
       "  <tbody>\n",
       "    <tr>\n",
       "      <th>availability</th>\n",
       "      <td>1.000000</td>\n",
       "      <td>0.999998</td>\n",
       "      <td>0.999998</td>\n",
       "      <td>0.999997</td>\n",
       "      <td>0.978836</td>\n",
       "      <td>0.999983</td>\n",
       "      <td>0.999999</td>\n",
       "      <td>0.999985</td>\n",
       "      <td>0.999972</td>\n",
       "      <td>-0.059237</td>\n",
       "      <td>...</td>\n",
       "      <td>0.999998</td>\n",
       "      <td>0.999998</td>\n",
       "      <td>0.999998</td>\n",
       "      <td>0.999998</td>\n",
       "      <td>0.999998</td>\n",
       "      <td>0.999998</td>\n",
       "      <td>0.999998</td>\n",
       "      <td>0.999998</td>\n",
       "      <td>0.999998</td>\n",
       "      <td>0.999999</td>\n",
       "    </tr>\n",
       "    <tr>\n",
       "      <th>size</th>\n",
       "      <td>0.999998</td>\n",
       "      <td>1.000000</td>\n",
       "      <td>0.999999</td>\n",
       "      <td>0.999997</td>\n",
       "      <td>0.978992</td>\n",
       "      <td>0.999980</td>\n",
       "      <td>0.999997</td>\n",
       "      <td>0.999987</td>\n",
       "      <td>0.999969</td>\n",
       "      <td>-0.058159</td>\n",
       "      <td>...</td>\n",
       "      <td>0.999997</td>\n",
       "      <td>0.999997</td>\n",
       "      <td>0.999997</td>\n",
       "      <td>0.999997</td>\n",
       "      <td>0.999997</td>\n",
       "      <td>0.999997</td>\n",
       "      <td>0.999997</td>\n",
       "      <td>0.999997</td>\n",
       "      <td>0.999997</td>\n",
       "      <td>0.999998</td>\n",
       "    </tr>\n",
       "    <tr>\n",
       "      <th>bath</th>\n",
       "      <td>0.999998</td>\n",
       "      <td>0.999999</td>\n",
       "      <td>1.000000</td>\n",
       "      <td>0.999997</td>\n",
       "      <td>0.978968</td>\n",
       "      <td>0.999980</td>\n",
       "      <td>0.999997</td>\n",
       "      <td>0.999986</td>\n",
       "      <td>0.999970</td>\n",
       "      <td>-0.058214</td>\n",
       "      <td>...</td>\n",
       "      <td>0.999997</td>\n",
       "      <td>0.999997</td>\n",
       "      <td>0.999997</td>\n",
       "      <td>0.999997</td>\n",
       "      <td>0.999997</td>\n",
       "      <td>0.999997</td>\n",
       "      <td>0.999997</td>\n",
       "      <td>0.999997</td>\n",
       "      <td>0.999997</td>\n",
       "      <td>0.999998</td>\n",
       "    </tr>\n",
       "    <tr>\n",
       "      <th>balcony</th>\n",
       "      <td>0.999997</td>\n",
       "      <td>0.999997</td>\n",
       "      <td>0.999997</td>\n",
       "      <td>1.000000</td>\n",
       "      <td>0.978868</td>\n",
       "      <td>0.999979</td>\n",
       "      <td>0.999997</td>\n",
       "      <td>0.999982</td>\n",
       "      <td>0.999973</td>\n",
       "      <td>-0.058665</td>\n",
       "      <td>...</td>\n",
       "      <td>0.999996</td>\n",
       "      <td>0.999996</td>\n",
       "      <td>0.999996</td>\n",
       "      <td>0.999996</td>\n",
       "      <td>0.999996</td>\n",
       "      <td>0.999996</td>\n",
       "      <td>0.999997</td>\n",
       "      <td>0.999996</td>\n",
       "      <td>0.999996</td>\n",
       "      <td>0.999998</td>\n",
       "    </tr>\n",
       "    <tr>\n",
       "      <th>price</th>\n",
       "      <td>0.978836</td>\n",
       "      <td>0.978992</td>\n",
       "      <td>0.978968</td>\n",
       "      <td>0.978868</td>\n",
       "      <td>1.000000</td>\n",
       "      <td>0.978728</td>\n",
       "      <td>0.978813</td>\n",
       "      <td>0.979219</td>\n",
       "      <td>0.978443</td>\n",
       "      <td>0.056595</td>\n",
       "      <td>...</td>\n",
       "      <td>0.978810</td>\n",
       "      <td>0.978811</td>\n",
       "      <td>0.978810</td>\n",
       "      <td>0.978815</td>\n",
       "      <td>0.978809</td>\n",
       "      <td>0.978810</td>\n",
       "      <td>0.978817</td>\n",
       "      <td>0.978811</td>\n",
       "      <td>0.978811</td>\n",
       "      <td>0.978815</td>\n",
       "    </tr>\n",
       "    <tr>\n",
       "      <th>...</th>\n",
       "      <td>...</td>\n",
       "      <td>...</td>\n",
       "      <td>...</td>\n",
       "      <td>...</td>\n",
       "      <td>...</td>\n",
       "      <td>...</td>\n",
       "      <td>...</td>\n",
       "      <td>...</td>\n",
       "      <td>...</td>\n",
       "      <td>...</td>\n",
       "      <td>...</td>\n",
       "      <td>...</td>\n",
       "      <td>...</td>\n",
       "      <td>...</td>\n",
       "      <td>...</td>\n",
       "      <td>...</td>\n",
       "      <td>...</td>\n",
       "      <td>...</td>\n",
       "      <td>...</td>\n",
       "      <td>...</td>\n",
       "      <td>...</td>\n",
       "    </tr>\n",
       "    <tr>\n",
       "      <th>site_location_Wakadewadi</th>\n",
       "      <td>0.999998</td>\n",
       "      <td>0.999997</td>\n",
       "      <td>0.999997</td>\n",
       "      <td>0.999996</td>\n",
       "      <td>0.978810</td>\n",
       "      <td>0.999981</td>\n",
       "      <td>0.999998</td>\n",
       "      <td>0.999984</td>\n",
       "      <td>0.999972</td>\n",
       "      <td>-0.059303</td>\n",
       "      <td>...</td>\n",
       "      <td>0.999997</td>\n",
       "      <td>0.999998</td>\n",
       "      <td>0.999997</td>\n",
       "      <td>0.999997</td>\n",
       "      <td>0.999997</td>\n",
       "      <td>1.000000</td>\n",
       "      <td>0.999998</td>\n",
       "      <td>0.999997</td>\n",
       "      <td>0.999998</td>\n",
       "      <td>0.999999</td>\n",
       "    </tr>\n",
       "    <tr>\n",
       "      <th>site_location_Wanowrie</th>\n",
       "      <td>0.999998</td>\n",
       "      <td>0.999997</td>\n",
       "      <td>0.999997</td>\n",
       "      <td>0.999997</td>\n",
       "      <td>0.978817</td>\n",
       "      <td>0.999981</td>\n",
       "      <td>0.999998</td>\n",
       "      <td>0.999984</td>\n",
       "      <td>0.999972</td>\n",
       "      <td>-0.059236</td>\n",
       "      <td>...</td>\n",
       "      <td>0.999997</td>\n",
       "      <td>0.999998</td>\n",
       "      <td>0.999997</td>\n",
       "      <td>0.999997</td>\n",
       "      <td>0.999997</td>\n",
       "      <td>0.999998</td>\n",
       "      <td>1.000000</td>\n",
       "      <td>0.999997</td>\n",
       "      <td>0.999998</td>\n",
       "      <td>0.999999</td>\n",
       "    </tr>\n",
       "    <tr>\n",
       "      <th>site_location_Warje</th>\n",
       "      <td>0.999998</td>\n",
       "      <td>0.999997</td>\n",
       "      <td>0.999997</td>\n",
       "      <td>0.999996</td>\n",
       "      <td>0.978811</td>\n",
       "      <td>0.999981</td>\n",
       "      <td>0.999998</td>\n",
       "      <td>0.999984</td>\n",
       "      <td>0.999972</td>\n",
       "      <td>-0.059272</td>\n",
       "      <td>...</td>\n",
       "      <td>0.999997</td>\n",
       "      <td>0.999997</td>\n",
       "      <td>0.999997</td>\n",
       "      <td>0.999997</td>\n",
       "      <td>0.999997</td>\n",
       "      <td>0.999997</td>\n",
       "      <td>0.999997</td>\n",
       "      <td>1.000000</td>\n",
       "      <td>0.999997</td>\n",
       "      <td>0.999999</td>\n",
       "    </tr>\n",
       "    <tr>\n",
       "      <th>site_location_Yerawada</th>\n",
       "      <td>0.999998</td>\n",
       "      <td>0.999997</td>\n",
       "      <td>0.999997</td>\n",
       "      <td>0.999996</td>\n",
       "      <td>0.978811</td>\n",
       "      <td>0.999981</td>\n",
       "      <td>0.999998</td>\n",
       "      <td>0.999984</td>\n",
       "      <td>0.999972</td>\n",
       "      <td>-0.059305</td>\n",
       "      <td>...</td>\n",
       "      <td>0.999998</td>\n",
       "      <td>0.999998</td>\n",
       "      <td>0.999997</td>\n",
       "      <td>0.999998</td>\n",
       "      <td>0.999998</td>\n",
       "      <td>0.999998</td>\n",
       "      <td>0.999998</td>\n",
       "      <td>0.999997</td>\n",
       "      <td>1.000000</td>\n",
       "      <td>0.999999</td>\n",
       "    </tr>\n",
       "    <tr>\n",
       "      <th>site_location_other</th>\n",
       "      <td>0.999999</td>\n",
       "      <td>0.999998</td>\n",
       "      <td>0.999998</td>\n",
       "      <td>0.999998</td>\n",
       "      <td>0.978815</td>\n",
       "      <td>0.999983</td>\n",
       "      <td>0.999999</td>\n",
       "      <td>0.999985</td>\n",
       "      <td>0.999973</td>\n",
       "      <td>-0.059280</td>\n",
       "      <td>...</td>\n",
       "      <td>0.999999</td>\n",
       "      <td>0.999999</td>\n",
       "      <td>0.999999</td>\n",
       "      <td>0.999999</td>\n",
       "      <td>0.999999</td>\n",
       "      <td>0.999999</td>\n",
       "      <td>0.999999</td>\n",
       "      <td>0.999999</td>\n",
       "      <td>0.999999</td>\n",
       "      <td>1.000000</td>\n",
       "    </tr>\n",
       "  </tbody>\n",
       "</table>\n",
       "<p>107 rows × 107 columns</p>\n",
       "</div>"
      ],
      "text/plain": [
       "                          availability      size      bath   balcony  \\\n",
       "availability                  1.000000  0.999998  0.999998  0.999997   \n",
       "size                          0.999998  1.000000  0.999999  0.999997   \n",
       "bath                          0.999998  0.999999  1.000000  0.999997   \n",
       "balcony                       0.999997  0.999997  0.999997  1.000000   \n",
       "price                         0.978836  0.978992  0.978968  0.978868   \n",
       "...                                ...       ...       ...       ...   \n",
       "site_location_Wakadewadi      0.999998  0.999997  0.999997  0.999996   \n",
       "site_location_Wanowrie        0.999998  0.999997  0.999997  0.999997   \n",
       "site_location_Warje           0.999998  0.999997  0.999997  0.999996   \n",
       "site_location_Yerawada        0.999998  0.999997  0.999997  0.999996   \n",
       "site_location_other           0.999999  0.999998  0.999998  0.999998   \n",
       "\n",
       "                             price  area_type_Built-up  Area  \\\n",
       "availability              0.978836                  0.999983   \n",
       "size                      0.978992                  0.999980   \n",
       "bath                      0.978968                  0.999980   \n",
       "balcony                   0.978868                  0.999979   \n",
       "price                     1.000000                  0.978728   \n",
       "...                            ...                       ...   \n",
       "site_location_Wakadewadi  0.978810                  0.999981   \n",
       "site_location_Wanowrie    0.978817                  0.999981   \n",
       "site_location_Warje       0.978811                  0.999981   \n",
       "site_location_Yerawada    0.978811                  0.999981   \n",
       "site_location_other       0.978815                  0.999983   \n",
       "\n",
       "                          area_type_Carpet  Area  area_type_Plot  Area  \\\n",
       "availability                            0.999999              0.999985   \n",
       "size                                    0.999997              0.999987   \n",
       "bath                                    0.999997              0.999986   \n",
       "balcony                                 0.999997              0.999982   \n",
       "price                                   0.978813              0.979219   \n",
       "...                                          ...                   ...   \n",
       "site_location_Wakadewadi                0.999998              0.999984   \n",
       "site_location_Wanowrie                  0.999998              0.999984   \n",
       "site_location_Warje                     0.999998              0.999984   \n",
       "site_location_Yerawada                  0.999998              0.999984   \n",
       "site_location_other                     0.999999              0.999985   \n",
       "\n",
       "                          area_type_Super built-up  Area  new_total_sqft  ...  \\\n",
       "availability                                    0.999972       -0.059237  ...   \n",
       "size                                            0.999969       -0.058159  ...   \n",
       "bath                                            0.999970       -0.058214  ...   \n",
       "balcony                                         0.999973       -0.058665  ...   \n",
       "price                                           0.978443        0.056595  ...   \n",
       "...                                                  ...             ...  ...   \n",
       "site_location_Wakadewadi                        0.999972       -0.059303  ...   \n",
       "site_location_Wanowrie                          0.999972       -0.059236  ...   \n",
       "site_location_Warje                             0.999972       -0.059272  ...   \n",
       "site_location_Yerawada                          0.999972       -0.059305  ...   \n",
       "site_location_other                             0.999973       -0.059280  ...   \n",
       "\n",
       "                          site_location_Vadgaon Budruk  \\\n",
       "availability                                  0.999998   \n",
       "size                                          0.999997   \n",
       "bath                                          0.999997   \n",
       "balcony                                       0.999996   \n",
       "price                                         0.978810   \n",
       "...                                                ...   \n",
       "site_location_Wakadewadi                      0.999997   \n",
       "site_location_Wanowrie                        0.999997   \n",
       "site_location_Warje                           0.999997   \n",
       "site_location_Yerawada                        0.999998   \n",
       "site_location_other                           0.999999   \n",
       "\n",
       "                          site_location_Viman Nagar  \\\n",
       "availability                               0.999998   \n",
       "size                                       0.999997   \n",
       "bath                                       0.999997   \n",
       "balcony                                    0.999996   \n",
       "price                                      0.978811   \n",
       "...                                             ...   \n",
       "site_location_Wakadewadi                   0.999998   \n",
       "site_location_Wanowrie                     0.999998   \n",
       "site_location_Warje                        0.999997   \n",
       "site_location_Yerawada                     0.999998   \n",
       "site_location_other                        0.999999   \n",
       "\n",
       "                          site_location_Vishrant Wadi  \\\n",
       "availability                                 0.999998   \n",
       "size                                         0.999997   \n",
       "bath                                         0.999997   \n",
       "balcony                                      0.999996   \n",
       "price                                        0.978810   \n",
       "...                                               ...   \n",
       "site_location_Wakadewadi                     0.999997   \n",
       "site_location_Wanowrie                       0.999997   \n",
       "site_location_Warje                          0.999997   \n",
       "site_location_Yerawada                       0.999997   \n",
       "site_location_other                          0.999999   \n",
       "\n",
       "                          site_location_Wadgaon Sheri  site_location_Wagholi  \\\n",
       "availability                                 0.999998               0.999998   \n",
       "size                                         0.999997               0.999997   \n",
       "bath                                         0.999997               0.999997   \n",
       "balcony                                      0.999996               0.999996   \n",
       "price                                        0.978815               0.978809   \n",
       "...                                               ...                    ...   \n",
       "site_location_Wakadewadi                     0.999997               0.999997   \n",
       "site_location_Wanowrie                       0.999997               0.999997   \n",
       "site_location_Warje                          0.999997               0.999997   \n",
       "site_location_Yerawada                       0.999998               0.999998   \n",
       "site_location_other                          0.999999               0.999999   \n",
       "\n",
       "                          site_location_Wakadewadi  site_location_Wanowrie  \\\n",
       "availability                              0.999998                0.999998   \n",
       "size                                      0.999997                0.999997   \n",
       "bath                                      0.999997                0.999997   \n",
       "balcony                                   0.999996                0.999997   \n",
       "price                                     0.978810                0.978817   \n",
       "...                                            ...                     ...   \n",
       "site_location_Wakadewadi                  1.000000                0.999998   \n",
       "site_location_Wanowrie                    0.999998                1.000000   \n",
       "site_location_Warje                       0.999997                0.999997   \n",
       "site_location_Yerawada                    0.999998                0.999998   \n",
       "site_location_other                       0.999999                0.999999   \n",
       "\n",
       "                          site_location_Warje  site_location_Yerawada  \\\n",
       "availability                         0.999998                0.999998   \n",
       "size                                 0.999997                0.999997   \n",
       "bath                                 0.999997                0.999997   \n",
       "balcony                              0.999996                0.999996   \n",
       "price                                0.978811                0.978811   \n",
       "...                                       ...                     ...   \n",
       "site_location_Wakadewadi             0.999997                0.999998   \n",
       "site_location_Wanowrie               0.999997                0.999998   \n",
       "site_location_Warje                  1.000000                0.999997   \n",
       "site_location_Yerawada               0.999997                1.000000   \n",
       "site_location_other                  0.999999                0.999999   \n",
       "\n",
       "                          site_location_other  \n",
       "availability                         0.999999  \n",
       "size                                 0.999998  \n",
       "bath                                 0.999998  \n",
       "balcony                              0.999998  \n",
       "price                                0.978815  \n",
       "...                                       ...  \n",
       "site_location_Wakadewadi             0.999999  \n",
       "site_location_Wanowrie               0.999999  \n",
       "site_location_Warje                  0.999999  \n",
       "site_location_Yerawada               0.999999  \n",
       "site_location_other                  1.000000  \n",
       "\n",
       "[107 rows x 107 columns]"
      ]
     },
     "execution_count": 93,
     "metadata": {},
     "output_type": "execute_result"
    }
   ],
   "source": [
    "df.corr()"
   ]
  },
  {
   "cell_type": "code",
   "execution_count": 94,
   "id": "1911fc0a",
   "metadata": {},
   "outputs": [
    {
     "data": {
      "text/plain": [
       "<AxesSubplot:>"
      ]
     },
     "execution_count": 94,
     "metadata": {},
     "output_type": "execute_result"
    },
    {
     "data": {
      "image/png": "[encoded data removed]",
      "text/plain": [
       "<Figure size 1440x1440 with 2 Axes>"
      ]
     },
     "metadata": {
      "needs_background": "light"
     },
     "output_type": "display_data"
    }
   ],
   "source": [
    "plt.figure(figsize=(20,20))\n",
    "sns.heatmap(df.corr(),annot=True)"
   ]
  },
  {
   "cell_type": "markdown",
   "id": "12a3681d",
   "metadata": {},
   "source": [
    "## No multicolinearity"
   ]
  },
  {
   "cell_type": "code",
   "execution_count": 99,
   "id": "fd9111da",
   "metadata": {},
   "outputs": [
    {
     "data": {
      "text/plain": [
       "Index(['availability', 'size', 'bath', 'balcony', 'area_type_Built-up  Area',\n",
       "       'area_type_Carpet  Area', 'area_type_Plot  Area',\n",
       "       'area_type_Super built-up  Area', 'new_total_sqft',\n",
       "       'site_location_Alandi Road',\n",
       "       ...\n",
       "       'site_location_Vadgaon Budruk', 'site_location_Viman Nagar',\n",
       "       'site_location_Vishrant Wadi', 'site_location_Wadgaon Sheri',\n",
       "       'site_location_Wagholi', 'site_location_Wakadewadi',\n",
       "       'site_location_Wanowrie', 'site_location_Warje',\n",
       "       'site_location_Yerawada', 'site_location_other'],\n",
       "      dtype='object', length=106)"
      ]
     },
     "execution_count": 99,
     "metadata": {},
     "output_type": "execute_result"
    }
   ],
   "source": [
    "x.columns"
   ]
  },
  {
   "cell_type": "code",
   "execution_count": 97,
   "id": "468970e4",
   "metadata": {},
   "outputs": [
    {
     "data": {
      "text/plain": [
       "106"
      ]
     },
     "execution_count": 97,
     "metadata": {},
     "output_type": "execute_result"
    }
   ],
   "source": [
    "x.shape[1]"
   ]
  },
  {
   "cell_type": "code",
   "execution_count": 98,
   "id": "6ebd7030",
   "metadata": {},
   "outputs": [
    {
     "data": {
      "text/plain": [
       "<AxesSubplot:>"
      ]
     },
     "execution_count": 98,
     "metadata": {},
     "output_type": "execute_result"
    },
    {
     "data": {
      "image/png": "[encoded data removed]",
      "text/plain": [
       "<Figure size 1440x576 with 1 Axes>"
      ]
     },
     "metadata": {
      "needs_background": "light"
     },
     "output_type": "display_data"
    }
   ],
   "source": [
    "vif_list = []\n",
    "\n",
    "for i in range(x.shape[1]):\n",
    "    vif = variance_inflation_factor(x.to_numpy(), i)\n",
    "    vif_list.append(vif)\n",
    "    \n",
    "s1 = pd.Series(vif_list, index = x.columns)\n",
    "plt.figure(figsize=(20,8))\n",
    "s1.sort_values().plot(kind=\"bar\")"
   ]
  },
  {
   "cell_type": "markdown",
   "id": "44de9438",
   "metadata": {},
   "source": [
    "## 6. Model Training"
   ]
  },
  {
   "cell_type": "code",
   "execution_count": 96,
   "id": "433e9da5",
   "metadata": {},
   "outputs": [],
   "source": [
    "x = df.drop('price', axis=1)\n",
    "y = df['price']"
   ]
  },
  {
   "cell_type": "code",
   "execution_count": 100,
   "id": "6e0ffd0d",
   "metadata": {},
   "outputs": [],
   "source": [
    "x_train, x_test, y_train, y_test = train_test_split(x,y,test_size=0.20,random_state=9)"
   ]
  },
  {
   "cell_type": "code",
   "execution_count": 101,
   "id": "19240a97",
   "metadata": {},
   "outputs": [
    {
     "data": {
      "text/html": [
       "<style>#sk-container-id-1 {color: black;background-color: white;}#sk-container-id-1 pre{padding: 0;}#sk-container-id-1 div.sk-toggleable {background-color: white;}#sk-container-id-1 label.sk-toggleable__label {cursor: pointer;display: block;width: 100%;margin-bottom: 0;padding: 0.3em;box-sizing: border-box;text-align: center;}#sk-container-id-1 label.sk-toggleable__label-arrow:before {content: \"▸\";float: left;margin-right: 0.25em;color: #696969;}#sk-container-id-1 label.sk-toggleable__label-arrow:hover:before {color: black;}#sk-container-id-1 div.sk-estimator:hover label.sk-toggleable__label-arrow:before {color: black;}#sk-container-id-1 div.sk-toggleable__content {max-height: 0;max-width: 0;overflow: hidden;text-align: left;background-color: #f0f8ff;}#sk-container-id-1 div.sk-toggleable__content pre {margin: 0.2em;color: black;border-radius: 0.25em;background-color: #f0f8ff;}#sk-container-id-1 input.sk-toggleable__control:checked~div.sk-toggleable__content {max-height: 200px;max-width: 100%;overflow: auto;}#sk-container-id-1 input.sk-toggleable__control:checked~label.sk-toggleable__label-arrow:before {content: \"▾\";}#sk-container-id-1 div.sk-estimator input.sk-toggleable__control:checked~label.sk-toggleable__label {background-color: #d4ebff;}#sk-container-id-1 div.sk-label input.sk-toggleable__control:checked~label.sk-toggleable__label {background-color: #d4ebff;}#sk-container-id-1 input.sk-hidden--visually {border: 0;clip: rect(1px 1px 1px 1px);clip: rect(1px, 1px, 1px, 1px);height: 1px;margin: -1px;overflow: hidden;padding: 0;position: absolute;width: 1px;}#sk-container-id-1 div.sk-estimator {font-family: monospace;background-color: #f0f8ff;border: 1px dotted black;border-radius: 0.25em;box-sizing: border-box;margin-bottom: 0.5em;}#sk-container-id-1 div.sk-estimator:hover {background-color: #d4ebff;}#sk-container-id-1 div.sk-parallel-item::after {content: \"\";width: 100%;border-bottom: 1px solid gray;flex-grow: 1;}#sk-container-id-1 div.sk-label:hover label.sk-toggleable__label {background-color: #d4ebff;}#sk-container-id-1 div.sk-serial::before {content: \"\";position: absolute;border-left: 1px solid gray;box-sizing: border-box;top: 0;bottom: 0;left: 50%;z-index: 0;}#sk-container-id-1 div.sk-serial {display: flex;flex-direction: column;align-items: center;background-color: white;padding-right: 0.2em;padding-left: 0.2em;position: relative;}#sk-container-id-1 div.sk-item {position: relative;z-index: 1;}#sk-container-id-1 div.sk-parallel {display: flex;align-items: stretch;justify-content: center;background-color: white;position: relative;}#sk-container-id-1 div.sk-item::before, #sk-container-id-1 div.sk-parallel-item::before {content: \"\";position: absolute;border-left: 1px solid gray;box-sizing: border-box;top: 0;bottom: 0;left: 50%;z-index: -1;}#sk-container-id-1 div.sk-parallel-item {display: flex;flex-direction: column;z-index: 1;position: relative;background-color: white;}#sk-container-id-1 div.sk-parallel-item:first-child::after {align-self: flex-end;width: 50%;}#sk-container-id-1 div.sk-parallel-item:last-child::after {align-self: flex-start;width: 50%;}#sk-container-id-1 div.sk-parallel-item:only-child::after {width: 0;}#sk-container-id-1 div.sk-dashed-wrapped {border: 1px dashed gray;margin: 0 0.4em 0.5em 0.4em;box-sizing: border-box;padding-bottom: 0.4em;background-color: white;}#sk-container-id-1 div.sk-label label {font-family: monospace;font-weight: bold;display: inline-block;line-height: 1.2em;}#sk-container-id-1 div.sk-label-container {text-align: center;}#sk-container-id-1 div.sk-container {/* jupyter's `normalize.less` sets `[hidden] { display: none; }` but bootstrap.min.css set `[hidden] { display: none !important; }` so we also need the `!important` here to be able to override the default hidden behavior on the sphinx rendered scikit-learn.org. See: https://github.com/scikit-learn/scikit-learn/issues/21755 */display: inline-block !important;position: relative;}#sk-container-id-1 div.sk-text-repr-fallback {display: none;}</style><div id=\"sk-container-id-1\" class=\"sk-top-container\"><div class=\"sk-text-repr-fallback\"><pre>LinearRegression()</pre><b>In a Jupyter environment, please rerun this cell to show the HTML representation or trust the notebook. <br />On GitHub, the HTML representation is unable to render, please try loading this page with nbviewer.org.</b></div><div class=\"sk-container\" hidden><div class=\"sk-item\"><div class=\"sk-estimator sk-toggleable\"><input class=\"sk-toggleable__control sk-hidden--visually\" id=\"sk-estimator-id-1\" type=\"checkbox\" checked><label for=\"sk-estimator-id-1\" class=\"sk-toggleable__label sk-toggleable__label-arrow\">LinearRegression</label><div class=\"sk-toggleable__content\"><pre>LinearRegression()</pre></div></div></div></div></div>"
      ],
      "text/plain": [
       "LinearRegression()"
      ]
     },
     "execution_count": 101,
     "metadata": {},
     "output_type": "execute_result"
    }
   ],
   "source": [
    "pune_model = LinearRegression()\n",
    "pune_model.fit(x_train,y_train)"
   ]
  },
  {
   "cell_type": "markdown",
   "id": "d5321570",
   "metadata": {},
   "source": [
    "### Post Metric evaluation"
   ]
  },
  {
   "cell_type": "code",
   "execution_count": 102,
   "id": "eb37aa94",
   "metadata": {},
   "outputs": [
    {
     "data": {
      "text/plain": [
       "array([  88.16902401,  103.61065949,   -9.83335408, ...,   62.33254252,\n",
       "       1240.        ,  163.31685528])"
      ]
     },
     "execution_count": 102,
     "metadata": {},
     "output_type": "execute_result"
    }
   ],
   "source": [
    "y_pred_test = pune_model.predict(x_test)\n",
    "y_pred_test"
   ]
  },
  {
   "cell_type": "code",
   "execution_count": 103,
   "id": "10bc8718",
   "metadata": {},
   "outputs": [
    {
     "data": {
      "text/plain": [
       "array([  84.43766564,   62.32880848,   83.68343916, ...,  114.91130565,\n",
       "       1240.        ,   30.52087689])"
      ]
     },
     "execution_count": 103,
     "metadata": {},
     "output_type": "execute_result"
    }
   ],
   "source": [
    "y_pred_train = pune_model.predict(x_train)\n",
    "y_pred_train"
   ]
  },
  {
   "cell_type": "markdown",
   "id": "4a5f9b76",
   "metadata": {},
   "source": [
    "### Metric Evaluation"
   ]
  },
  {
   "cell_type": "code",
   "execution_count": 104,
   "id": "87fb0a6c",
   "metadata": {},
   "outputs": [
    {
     "name": "stdout",
     "output_type": "stream",
     "text": [
      "mse--> 2646.920647529848\n",
      "rmse--> 51.4482326958842\n",
      "mae--> 26.711900080307384\n",
      "r2 score--> 0.9777481019305774\n"
     ]
    }
   ],
   "source": [
    "#Testing data\n",
    "y_pred_test = pune_model.predict(x_test)\n",
    "mse = mean_squared_error(y_test,y_pred_test)\n",
    "print('mse-->',mse)\n",
    "rmse = np.sqrt(mse)\n",
    "print('rmse-->',rmse)\n",
    "mae = mean_absolute_error(y_test,y_pred_test)\n",
    "print('mae-->',mae)\n",
    "r2 = r2_score(y_test,y_pred_test)\n",
    "print('r2 score-->',r2)"
   ]
  },
  {
   "cell_type": "code",
   "execution_count": 105,
   "id": "efa66b09",
   "metadata": {},
   "outputs": [
    {
     "name": "stdout",
     "output_type": "stream",
     "text": [
      "mse--> 2443.6725020674307\n",
      "rmse--> 49.433515979216274\n",
      "mae--> 26.378613554108323\n",
      "r2 score--> 0.9776520370121906\n"
     ]
    }
   ],
   "source": [
    "#Training data\n",
    "y_pred_train = pune_model.predict(x_train)\n",
    "mse = mean_squared_error(y_train,y_pred_train)\n",
    "print('mse-->',mse)\n",
    "rmse = np.sqrt(mse)\n",
    "print('rmse-->',rmse)\n",
    "mae = mean_absolute_error(y_train,y_pred_train)\n",
    "print('mae-->',mae)\n",
    "r2 = r2_score(y_train,y_pred_train)\n",
    "print('r2 score-->',r2)"
   ]
  },
  {
   "cell_type": "markdown",
   "id": "bd015e2a",
   "metadata": {},
   "source": [
    "## Checking assumptions of linear model after training model"
   ]
  },
  {
   "cell_type": "markdown",
   "id": "f402f454",
   "metadata": {},
   "source": [
    "### Normality of residual(Error)"
   ]
  },
  {
   "cell_type": "code",
   "execution_count": 106,
   "id": "e5eeb049",
   "metadata": {},
   "outputs": [],
   "source": [
    "residual_train = y_train - y_pred_train\n",
    "residual_test = y_test - y_pred_test"
   ]
  },
  {
   "cell_type": "code",
   "execution_count": 107,
   "id": "953130df",
   "metadata": {},
   "outputs": [
    {
     "data": {
      "text/plain": [
       "<AxesSubplot:xlabel='price', ylabel='Density'>"
      ]
     },
     "execution_count": 107,
     "metadata": {},
     "output_type": "execute_result"
    },
    {
     "data": {
      "image/png": "[encoded data removed]",
      "text/plain": [
       "<Figure size 432x288 with 1 Axes>"
      ]
     },
     "metadata": {
      "needs_background": "light"
     },
     "output_type": "display_data"
    }
   ],
   "source": [
    "sns.kdeplot(residual_train, fill=True, color=\"green\") #residual is normally distributed-bcz of no skewness"
   ]
  },
  {
   "cell_type": "markdown",
   "id": "77fb8933",
   "metadata": {},
   "source": [
    "### Homoscadasticity"
   ]
  },
  {
   "cell_type": "code",
   "execution_count": 108,
   "id": "3aa94815",
   "metadata": {},
   "outputs": [
    {
     "data": {
      "text/plain": [
       "<AxesSubplot:ylabel='price'>"
      ]
     },
     "execution_count": 108,
     "metadata": {},
     "output_type": "execute_result"
    },
    {
     "data": {
      "image/png": "[encoded data removed]",
      "text/plain": [
       "<Figure size 432x288 with 1 Axes>"
      ]
     },
     "metadata": {
      "needs_background": "light"
     },
     "output_type": "display_data"
    }
   ],
   "source": [
    "sns.scatterplot(x = y_pred_train, y= residual_train)"
   ]
  },
  {
   "cell_type": "code",
   "execution_count": 109,
   "id": "ec6adbcd",
   "metadata": {},
   "outputs": [
    {
     "data": {
      "text/plain": [
       "<AxesSubplot:ylabel='price'>"
      ]
     },
     "execution_count": 109,
     "metadata": {},
     "output_type": "execute_result"
    },
    {
     "data": {
      "image/png": "[encoded data removed]",
      "text/plain": [
       "<Figure size 432x288 with 1 Axes>"
      ]
     },
     "metadata": {
      "needs_background": "light"
     },
     "output_type": "display_data"
    }
   ],
   "source": [
    "sns.scatterplot(x = y_pred_test, y= residual_test)"
   ]
  },
  {
   "cell_type": "markdown",
   "id": "875a8ab0",
   "metadata": {},
   "source": [
    "## Testing on single row"
   ]
  },
  {
   "cell_type": "code",
   "execution_count": 110,
   "id": "bfe0a903",
   "metadata": {},
   "outputs": [
    {
     "data": {
      "text/plain": [
       "106"
      ]
     },
     "execution_count": 110,
     "metadata": {},
     "output_type": "execute_result"
    }
   ],
   "source": [
    "column_names = x.columns\n",
    "len(column_names)"
   ]
  },
  {
   "cell_type": "code",
   "execution_count": 111,
   "id": "8497162d",
   "metadata": {},
   "outputs": [
    {
     "data": {
      "text/html": [
       "<div>\n",
       "<style scoped>\n",
       "    .dataframe tbody tr th:only-of-type {\n",
       "        vertical-align: middle;\n",
       "    }\n",
       "\n",
       "    .dataframe tbody tr th {\n",
       "        vertical-align: top;\n",
       "    }\n",
       "\n",
       "    .dataframe thead th {\n",
       "        text-align: right;\n",
       "    }\n",
       "</style>\n",
       "<table border=\"1\" class=\"dataframe\">\n",
       "  <thead>\n",
       "    <tr style=\"text-align: right;\">\n",
       "      <th></th>\n",
       "      <th>0</th>\n",
       "    </tr>\n",
       "  </thead>\n",
       "  <tbody>\n",
       "    <tr>\n",
       "      <th>availability</th>\n",
       "      <td>0.0</td>\n",
       "    </tr>\n",
       "    <tr>\n",
       "      <th>size</th>\n",
       "      <td>2.0</td>\n",
       "    </tr>\n",
       "    <tr>\n",
       "      <th>bath</th>\n",
       "      <td>2.0</td>\n",
       "    </tr>\n",
       "    <tr>\n",
       "      <th>balcony</th>\n",
       "      <td>1.0</td>\n",
       "    </tr>\n",
       "    <tr>\n",
       "      <th>area_type_Built-up  Area</th>\n",
       "      <td>0.0</td>\n",
       "    </tr>\n",
       "    <tr>\n",
       "      <th>...</th>\n",
       "      <td>...</td>\n",
       "    </tr>\n",
       "    <tr>\n",
       "      <th>site_location_Wakadewadi</th>\n",
       "      <td>0.0</td>\n",
       "    </tr>\n",
       "    <tr>\n",
       "      <th>site_location_Wanowrie</th>\n",
       "      <td>0.0</td>\n",
       "    </tr>\n",
       "    <tr>\n",
       "      <th>site_location_Warje</th>\n",
       "      <td>0.0</td>\n",
       "    </tr>\n",
       "    <tr>\n",
       "      <th>site_location_Yerawada</th>\n",
       "      <td>0.0</td>\n",
       "    </tr>\n",
       "    <tr>\n",
       "      <th>site_location_other</th>\n",
       "      <td>0.0</td>\n",
       "    </tr>\n",
       "  </tbody>\n",
       "</table>\n",
       "<p>106 rows × 1 columns</p>\n",
       "</div>"
      ],
      "text/plain": [
       "                            0\n",
       "availability              0.0\n",
       "size                      2.0\n",
       "bath                      2.0\n",
       "balcony                   1.0\n",
       "area_type_Built-up  Area  0.0\n",
       "...                       ...\n",
       "site_location_Wakadewadi  0.0\n",
       "site_location_Wanowrie    0.0\n",
       "site_location_Warje       0.0\n",
       "site_location_Yerawada    0.0\n",
       "site_location_other       0.0\n",
       "\n",
       "[106 rows x 1 columns]"
      ]
     },
     "execution_count": 111,
     "metadata": {},
     "output_type": "execute_result"
    }
   ],
   "source": [
    "x.head(1).T"
   ]
  },
  {
   "cell_type": "code",
   "execution_count": 112,
   "id": "f49e646b",
   "metadata": {},
   "outputs": [
    {
     "data": {
      "text/plain": [
       "Index(['availability', 'size', 'bath', 'balcony', 'area_type_Built-up  Area',\n",
       "       'area_type_Carpet  Area', 'area_type_Plot  Area',\n",
       "       'area_type_Super built-up  Area', 'new_total_sqft',\n",
       "       'site_location_Alandi Road',\n",
       "       ...\n",
       "       'site_location_Vadgaon Budruk', 'site_location_Viman Nagar',\n",
       "       'site_location_Vishrant Wadi', 'site_location_Wadgaon Sheri',\n",
       "       'site_location_Wagholi', 'site_location_Wakadewadi',\n",
       "       'site_location_Wanowrie', 'site_location_Warje',\n",
       "       'site_location_Yerawada', 'site_location_other'],\n",
       "      dtype='object', length=106)"
      ]
     },
     "execution_count": 112,
     "metadata": {},
     "output_type": "execute_result"
    }
   ],
   "source": [
    "x.columns"
   ]
  },
  {
   "cell_type": "code",
   "execution_count": 113,
   "id": "23a4b1ad",
   "metadata": {},
   "outputs": [
    {
     "data": {
      "text/plain": [
       "Index(['availability', 'size', 'bath', 'balcony', 'area_type_Built-up  Area',\n",
       "       'area_type_Carpet  Area', 'area_type_Plot  Area',\n",
       "       'area_type_Super built-up  Area', 'new_total_sqft',\n",
       "       'site_location_Alandi Road',\n",
       "       ...\n",
       "       'site_location_Vadgaon Budruk', 'site_location_Viman Nagar',\n",
       "       'site_location_Vishrant Wadi', 'site_location_Wadgaon Sheri',\n",
       "       'site_location_Wagholi', 'site_location_Wakadewadi',\n",
       "       'site_location_Wanowrie', 'site_location_Warje',\n",
       "       'site_location_Yerawada', 'site_location_other'],\n",
       "      dtype='object', length=106)"
      ]
     },
     "execution_count": 113,
     "metadata": {},
     "output_type": "execute_result"
    }
   ],
   "source": [
    "column_names"
   ]
  },
  {
   "cell_type": "code",
   "execution_count": 130,
   "id": "2e8bebc1",
   "metadata": {},
   "outputs": [
    {
     "name": "stdout",
     "output_type": "stream",
     "text": [
      "1\n",
      "area_type_Carpet  Area\n",
      "site_location_Yerawada\n"
     ]
    }
   ],
   "source": [
    "# user input\n",
    "availability =1\n",
    "print(availability)\n",
    "size = 20.0\n",
    "bath = 3.0\n",
    "balcony = 2.0\n",
    "new_total_sqft = 2000.0\n",
    "\n",
    "area_type=\"Carpet  Area\"\n",
    "site_location=\"Yerawada\"\n",
    "area_type_col = \"area_type_\" + area_type\n",
    "print(area_type_col)\n",
    "site_location_col=\"site_location_\" + site_location\n",
    "print(site_location_col)"
   ]
  },
  {
   "cell_type": "code",
   "execution_count": 119,
   "id": "cc0008f5",
   "metadata": {
    "scrolled": true
   },
   "outputs": [
    {
     "name": "stdout",
     "output_type": "stream",
     "text": [
      "{'19-Dec': 0, 'Ready To Move': 1, '18-May': 0, '18-Feb': 0, '18-Nov': 0, '20-Dec': 0, '17-Oct': 0, '21-Dec': 0, '19-Sep': 0, '20-Sep': 0, '18-Mar': 0, '20-Feb': 0, '18-Apr': 0, '20-Aug': 0, '18-Oct': 0, '19-Mar': 0, '17-Sep': 0, '18-Dec': 0, '17-Aug': 0, '19-Apr': 0, '18-Jun': 0, '22-Dec': 0, '22-Jan': 0, '18-Aug': 0, '19-Jan': 0, '17-Jul': 0, '18-Jul': 0, '21-Jun': 0, '20-May': 0, '19-Aug': 0, '18-Sep': 0, '17-May': 0, '17-Jun': 0, '21-May': 0, '18-Jan': 0, '20-Mar': 0, '17-Dec': 0, '16-Mar': 0, '19-Jun': 0, '22-Jun': 0, '19-Jul': 0, '21-Feb': 0, 'Immediate Possession': 1, '19-May': 0, '17-Nov': 0, '20-Oct': 0, '20-Jun': 0, '19-Feb': 0, '21-Oct': 0, '21-Jan': 0, '17-Mar': 0, '17-Apr': 0, '22-May': 0, '19-Oct': 0, '21-Jul': 0, '21-Nov': 0, '21-Mar': 0, '16-Dec': 0, '22-Mar': 0, '20-Jan': 0, '21-Sep': 0, '21-Aug': 0, '14-Nov': 0, '19-Nov': 0, '15-Nov': 0, '16-Jul': 0, '15-Jun': 0, '17-Feb': 0, '20-Nov': 0, '20-Jul': 0, '16-Sep': 0, '15-Oct': 0, '15-Dec': 0, '16-Oct': 0, '22-Nov': 0, '15-Aug': 0, '17-Jan': 0, '16-Nov': 0, '20-Apr': 0, '16-Jan': 0, '14-Jul': 0}\n",
      "{'2 BHK': 2, '3 BHK': 3, '4 Bedroom': 4, '4 BHK': 4, '3 Bedroom': 3, '1 BHK': 1, '2 Bedroom': 2, '5 Bedroom': 5, '6 Bedroom': 6, '1 Bedroom': 1, '8 Bedroom': 8, '7 Bedroom': 7, '5 BHK': 5, '9 Bedroom': 9, '6 BHK': 6, '7 BHK': 7, '1 RK': 1, '10 Bedroom': 10, '9 BHK': 9, '8 BHK': 8, '11 BHK': 11, '11 Bedroom': 11, '10 BHK': 10, '14 BHK': 14, '13 BHK': 13, '12 Bedroom': 12, '27 BHK': 27, '43 Bedroom': 43, '16 BHK': 16, '19 BHK': 19, '18 Bedroom': 18}\n"
     ]
    },
    {
     "data": {
      "text/plain": [
       "['availability',\n",
       " 'size',\n",
       " 'bath',\n",
       " 'balcony',\n",
       " 'area_type_Built-up  Area',\n",
       " 'area_type_Carpet  Area',\n",
       " 'area_type_Plot  Area',\n",
       " 'area_type_Super built-up  Area',\n",
       " 'new_total_sqft',\n",
       " 'site_location_Alandi Road',\n",
       " 'site_location_Ambegaon Budruk',\n",
       " 'site_location_Anandnagar',\n",
       " 'site_location_Aundh',\n",
       " 'site_location_Aundh Road',\n",
       " 'site_location_Balaji Nagar',\n",
       " 'site_location_Baner',\n",
       " 'site_location_Baner road',\n",
       " 'site_location_Bhandarkar Road',\n",
       " 'site_location_Bhavani Peth',\n",
       " 'site_location_Bibvewadi',\n",
       " 'site_location_Bopodi',\n",
       " 'site_location_Budhwar Peth',\n",
       " 'site_location_Bund Garden Road',\n",
       " 'site_location_Camp',\n",
       " 'site_location_Chandan Nagar',\n",
       " 'site_location_Dapodi',\n",
       " 'site_location_Deccan Gymkhana',\n",
       " 'site_location_Dehu Road',\n",
       " 'site_location_Dhankawadi',\n",
       " 'site_location_Dhayari Phata',\n",
       " 'site_location_Dhole Patil Road',\n",
       " 'site_location_Erandwane',\n",
       " 'site_location_Fatima Nagar',\n",
       " 'site_location_Fergusson College Road',\n",
       " 'site_location_Ganesh Peth',\n",
       " 'site_location_Ganeshkhind',\n",
       " 'site_location_Ghorpade Peth',\n",
       " 'site_location_Ghorpadi',\n",
       " 'site_location_Gokhale Nagar',\n",
       " 'site_location_Gultekdi',\n",
       " 'site_location_Guruwar peth',\n",
       " 'site_location_Hadapsar',\n",
       " 'site_location_Hadapsar Industrial Estate',\n",
       " 'site_location_Hingne Khurd',\n",
       " 'site_location_Jangali Maharaj Road',\n",
       " 'site_location_Kalyani Nagar',\n",
       " 'site_location_Karve Nagar',\n",
       " 'site_location_Karve Road',\n",
       " 'site_location_Kasba Peth',\n",
       " 'site_location_Katraj',\n",
       " 'site_location_Khadaki',\n",
       " 'site_location_Khadki',\n",
       " 'site_location_Kharadi',\n",
       " 'site_location_Kondhwa',\n",
       " 'site_location_Kondhwa Budruk',\n",
       " 'site_location_Kondhwa Khurd',\n",
       " 'site_location_Koregaon Park',\n",
       " 'site_location_Kothrud',\n",
       " 'site_location_Law College Road',\n",
       " 'site_location_Laxmi Road',\n",
       " 'site_location_Lulla Nagar',\n",
       " 'site_location_Mahatma Gandhi Road',\n",
       " 'site_location_Mangalwar peth',\n",
       " 'site_location_Manik Bagh',\n",
       " 'site_location_Market yard',\n",
       " 'site_location_Model colony',\n",
       " 'site_location_Mukund Nagar',\n",
       " 'site_location_Mundhawa',\n",
       " 'site_location_Nagar Road',\n",
       " 'site_location_Nana Peth',\n",
       " 'site_location_Narayan Peth',\n",
       " 'site_location_Narayangaon',\n",
       " 'site_location_Navi Peth',\n",
       " 'site_location_Padmavati',\n",
       " 'site_location_Parvati Darshan',\n",
       " 'site_location_Pashan',\n",
       " 'site_location_Paud Road',\n",
       " 'site_location_Pirangut',\n",
       " 'site_location_Prabhat Road',\n",
       " 'site_location_Pune Railway Station',\n",
       " 'site_location_Rasta Peth',\n",
       " 'site_location_Raviwar Peth',\n",
       " 'site_location_Sadashiv Peth',\n",
       " 'site_location_Sahakar Nagar',\n",
       " 'site_location_Salunke Vihar',\n",
       " 'site_location_Sasson Road',\n",
       " 'site_location_Satara Road',\n",
       " 'site_location_Senapati Bapat Road',\n",
       " 'site_location_Shaniwar Peth',\n",
       " 'site_location_Shivaji Nagar',\n",
       " 'site_location_Shukrawar Peth',\n",
       " 'site_location_Sinhagad Road',\n",
       " 'site_location_Somwar Peth',\n",
       " 'site_location_Swargate',\n",
       " 'site_location_Tilak Road',\n",
       " 'site_location_Uruli Devachi',\n",
       " 'site_location_Vadgaon Budruk',\n",
       " 'site_location_Viman Nagar',\n",
       " 'site_location_Vishrant Wadi',\n",
       " 'site_location_Wadgaon Sheri',\n",
       " 'site_location_Wagholi',\n",
       " 'site_location_Wakadewadi',\n",
       " 'site_location_Wanowrie',\n",
       " 'site_location_Warje',\n",
       " 'site_location_Yerawada',\n",
       " 'site_location_other']"
      ]
     },
     "execution_count": 119,
     "metadata": {},
     "output_type": "execute_result"
    }
   ],
   "source": [
    "print(dict1_availability)\n",
    "print(dict1_size)\n",
    "list(column_names)"
   ]
  },
  {
   "cell_type": "code",
   "execution_count": 120,
   "id": "0b0b5f1c",
   "metadata": {},
   "outputs": [
    {
     "data": {
      "text/plain": [
       "{'availability': {'19-Dec': 0,\n",
       "  'Ready To Move': 1,\n",
       "  '18-May': 0,\n",
       "  '18-Feb': 0,\n",
       "  '18-Nov': 0,\n",
       "  '20-Dec': 0,\n",
       "  '17-Oct': 0,\n",
       "  '21-Dec': 0,\n",
       "  '19-Sep': 0,\n",
       "  '20-Sep': 0,\n",
       "  '18-Mar': 0,\n",
       "  '20-Feb': 0,\n",
       "  '18-Apr': 0,\n",
       "  '20-Aug': 0,\n",
       "  '18-Oct': 0,\n",
       "  '19-Mar': 0,\n",
       "  '17-Sep': 0,\n",
       "  '18-Dec': 0,\n",
       "  '17-Aug': 0,\n",
       "  '19-Apr': 0,\n",
       "  '18-Jun': 0,\n",
       "  '22-Dec': 0,\n",
       "  '22-Jan': 0,\n",
       "  '18-Aug': 0,\n",
       "  '19-Jan': 0,\n",
       "  '17-Jul': 0,\n",
       "  '18-Jul': 0,\n",
       "  '21-Jun': 0,\n",
       "  '20-May': 0,\n",
       "  '19-Aug': 0,\n",
       "  '18-Sep': 0,\n",
       "  '17-May': 0,\n",
       "  '17-Jun': 0,\n",
       "  '21-May': 0,\n",
       "  '18-Jan': 0,\n",
       "  '20-Mar': 0,\n",
       "  '17-Dec': 0,\n",
       "  '16-Mar': 0,\n",
       "  '19-Jun': 0,\n",
       "  '22-Jun': 0,\n",
       "  '19-Jul': 0,\n",
       "  '21-Feb': 0,\n",
       "  'Immediate Possession': 1,\n",
       "  '19-May': 0,\n",
       "  '17-Nov': 0,\n",
       "  '20-Oct': 0,\n",
       "  '20-Jun': 0,\n",
       "  '19-Feb': 0,\n",
       "  '21-Oct': 0,\n",
       "  '21-Jan': 0,\n",
       "  '17-Mar': 0,\n",
       "  '17-Apr': 0,\n",
       "  '22-May': 0,\n",
       "  '19-Oct': 0,\n",
       "  '21-Jul': 0,\n",
       "  '21-Nov': 0,\n",
       "  '21-Mar': 0,\n",
       "  '16-Dec': 0,\n",
       "  '22-Mar': 0,\n",
       "  '20-Jan': 0,\n",
       "  '21-Sep': 0,\n",
       "  '21-Aug': 0,\n",
       "  '14-Nov': 0,\n",
       "  '19-Nov': 0,\n",
       "  '15-Nov': 0,\n",
       "  '16-Jul': 0,\n",
       "  '15-Jun': 0,\n",
       "  '17-Feb': 0,\n",
       "  '20-Nov': 0,\n",
       "  '20-Jul': 0,\n",
       "  '16-Sep': 0,\n",
       "  '15-Oct': 0,\n",
       "  '15-Dec': 0,\n",
       "  '16-Oct': 0,\n",
       "  '22-Nov': 0,\n",
       "  '15-Aug': 0,\n",
       "  '17-Jan': 0,\n",
       "  '16-Nov': 0,\n",
       "  '20-Apr': 0,\n",
       "  '16-Jan': 0,\n",
       "  '14-Jul': 0},\n",
       " 'size': {'2 BHK': 2,\n",
       "  '3 BHK': 3,\n",
       "  '4 Bedroom': 4,\n",
       "  '4 BHK': 4,\n",
       "  '3 Bedroom': 3,\n",
       "  '1 BHK': 1,\n",
       "  '2 Bedroom': 2,\n",
       "  '5 Bedroom': 5,\n",
       "  '6 Bedroom': 6,\n",
       "  '1 Bedroom': 1,\n",
       "  '8 Bedroom': 8,\n",
       "  '7 Bedroom': 7,\n",
       "  '5 BHK': 5,\n",
       "  '9 Bedroom': 9,\n",
       "  '6 BHK': 6,\n",
       "  '7 BHK': 7,\n",
       "  '1 RK': 1,\n",
       "  '10 Bedroom': 10,\n",
       "  '9 BHK': 9,\n",
       "  '8 BHK': 8,\n",
       "  '11 BHK': 11,\n",
       "  '11 Bedroom': 11,\n",
       "  '10 BHK': 10,\n",
       "  '14 BHK': 14,\n",
       "  '13 BHK': 13,\n",
       "  '12 Bedroom': 12,\n",
       "  '27 BHK': 27,\n",
       "  '43 Bedroom': 43,\n",
       "  '16 BHK': 16,\n",
       "  '19 BHK': 19,\n",
       "  '18 Bedroom': 18},\n",
       " 'columns': ['availability',\n",
       "  'size',\n",
       "  'bath',\n",
       "  'balcony',\n",
       "  'area_type_Built-up  Area',\n",
       "  'area_type_Carpet  Area',\n",
       "  'area_type_Plot  Area',\n",
       "  'area_type_Super built-up  Area',\n",
       "  'new_total_sqft',\n",
       "  'site_location_Alandi Road',\n",
       "  'site_location_Ambegaon Budruk',\n",
       "  'site_location_Anandnagar',\n",
       "  'site_location_Aundh',\n",
       "  'site_location_Aundh Road',\n",
       "  'site_location_Balaji Nagar',\n",
       "  'site_location_Baner',\n",
       "  'site_location_Baner road',\n",
       "  'site_location_Bhandarkar Road',\n",
       "  'site_location_Bhavani Peth',\n",
       "  'site_location_Bibvewadi',\n",
       "  'site_location_Bopodi',\n",
       "  'site_location_Budhwar Peth',\n",
       "  'site_location_Bund Garden Road',\n",
       "  'site_location_Camp',\n",
       "  'site_location_Chandan Nagar',\n",
       "  'site_location_Dapodi',\n",
       "  'site_location_Deccan Gymkhana',\n",
       "  'site_location_Dehu Road',\n",
       "  'site_location_Dhankawadi',\n",
       "  'site_location_Dhayari Phata',\n",
       "  'site_location_Dhole Patil Road',\n",
       "  'site_location_Erandwane',\n",
       "  'site_location_Fatima Nagar',\n",
       "  'site_location_Fergusson College Road',\n",
       "  'site_location_Ganesh Peth',\n",
       "  'site_location_Ganeshkhind',\n",
       "  'site_location_Ghorpade Peth',\n",
       "  'site_location_Ghorpadi',\n",
       "  'site_location_Gokhale Nagar',\n",
       "  'site_location_Gultekdi',\n",
       "  'site_location_Guruwar peth',\n",
       "  'site_location_Hadapsar',\n",
       "  'site_location_Hadapsar Industrial Estate',\n",
       "  'site_location_Hingne Khurd',\n",
       "  'site_location_Jangali Maharaj Road',\n",
       "  'site_location_Kalyani Nagar',\n",
       "  'site_location_Karve Nagar',\n",
       "  'site_location_Karve Road',\n",
       "  'site_location_Kasba Peth',\n",
       "  'site_location_Katraj',\n",
       "  'site_location_Khadaki',\n",
       "  'site_location_Khadki',\n",
       "  'site_location_Kharadi',\n",
       "  'site_location_Kondhwa',\n",
       "  'site_location_Kondhwa Budruk',\n",
       "  'site_location_Kondhwa Khurd',\n",
       "  'site_location_Koregaon Park',\n",
       "  'site_location_Kothrud',\n",
       "  'site_location_Law College Road',\n",
       "  'site_location_Laxmi Road',\n",
       "  'site_location_Lulla Nagar',\n",
       "  'site_location_Mahatma Gandhi Road',\n",
       "  'site_location_Mangalwar peth',\n",
       "  'site_location_Manik Bagh',\n",
       "  'site_location_Market yard',\n",
       "  'site_location_Model colony',\n",
       "  'site_location_Mukund Nagar',\n",
       "  'site_location_Mundhawa',\n",
       "  'site_location_Nagar Road',\n",
       "  'site_location_Nana Peth',\n",
       "  'site_location_Narayan Peth',\n",
       "  'site_location_Narayangaon',\n",
       "  'site_location_Navi Peth',\n",
       "  'site_location_Padmavati',\n",
       "  'site_location_Parvati Darshan',\n",
       "  'site_location_Pashan',\n",
       "  'site_location_Paud Road',\n",
       "  'site_location_Pirangut',\n",
       "  'site_location_Prabhat Road',\n",
       "  'site_location_Pune Railway Station',\n",
       "  'site_location_Rasta Peth',\n",
       "  'site_location_Raviwar Peth',\n",
       "  'site_location_Sadashiv Peth',\n",
       "  'site_location_Sahakar Nagar',\n",
       "  'site_location_Salunke Vihar',\n",
       "  'site_location_Sasson Road',\n",
       "  'site_location_Satara Road',\n",
       "  'site_location_Senapati Bapat Road',\n",
       "  'site_location_Shaniwar Peth',\n",
       "  'site_location_Shivaji Nagar',\n",
       "  'site_location_Shukrawar Peth',\n",
       "  'site_location_Sinhagad Road',\n",
       "  'site_location_Somwar Peth',\n",
       "  'site_location_Swargate',\n",
       "  'site_location_Tilak Road',\n",
       "  'site_location_Uruli Devachi',\n",
       "  'site_location_Vadgaon Budruk',\n",
       "  'site_location_Viman Nagar',\n",
       "  'site_location_Vishrant Wadi',\n",
       "  'site_location_Wadgaon Sheri',\n",
       "  'site_location_Wagholi',\n",
       "  'site_location_Wakadewadi',\n",
       "  'site_location_Wanowrie',\n",
       "  'site_location_Warje',\n",
       "  'site_location_Yerawada',\n",
       "  'site_location_other']}"
      ]
     },
     "execution_count": 120,
     "metadata": {},
     "output_type": "execute_result"
    }
   ],
   "source": [
    "project_data = {'availability':dict1_availability,'size':dict1_size, 'columns':list(column_names)}\n",
    "project_data"
   ]
  },
  {
   "cell_type": "code",
   "execution_count": 122,
   "id": "7cff5926",
   "metadata": {},
   "outputs": [
    {
     "data": {
      "text/plain": [
       "array(['availability', 'size', 'bath', 'balcony',\n",
       "       'area_type_Built-up  Area', 'area_type_Carpet  Area',\n",
       "       'area_type_Plot  Area', 'area_type_Super built-up  Area',\n",
       "       'new_total_sqft', 'site_location_Alandi Road',\n",
       "       'site_location_Ambegaon Budruk', 'site_location_Anandnagar',\n",
       "       'site_location_Aundh', 'site_location_Aundh Road',\n",
       "       'site_location_Balaji Nagar', 'site_location_Baner',\n",
       "       'site_location_Baner road', 'site_location_Bhandarkar Road',\n",
       "       'site_location_Bhavani Peth', 'site_location_Bibvewadi',\n",
       "       'site_location_Bopodi', 'site_location_Budhwar Peth',\n",
       "       'site_location_Bund Garden Road', 'site_location_Camp',\n",
       "       'site_location_Chandan Nagar', 'site_location_Dapodi',\n",
       "       'site_location_Deccan Gymkhana', 'site_location_Dehu Road',\n",
       "       'site_location_Dhankawadi', 'site_location_Dhayari Phata',\n",
       "       'site_location_Dhole Patil Road', 'site_location_Erandwane',\n",
       "       'site_location_Fatima Nagar',\n",
       "       'site_location_Fergusson College Road',\n",
       "       'site_location_Ganesh Peth', 'site_location_Ganeshkhind',\n",
       "       'site_location_Ghorpade Peth', 'site_location_Ghorpadi',\n",
       "       'site_location_Gokhale Nagar', 'site_location_Gultekdi',\n",
       "       'site_location_Guruwar peth', 'site_location_Hadapsar',\n",
       "       'site_location_Hadapsar Industrial Estate',\n",
       "       'site_location_Hingne Khurd', 'site_location_Jangali Maharaj Road',\n",
       "       'site_location_Kalyani Nagar', 'site_location_Karve Nagar',\n",
       "       'site_location_Karve Road', 'site_location_Kasba Peth',\n",
       "       'site_location_Katraj', 'site_location_Khadaki',\n",
       "       'site_location_Khadki', 'site_location_Kharadi',\n",
       "       'site_location_Kondhwa', 'site_location_Kondhwa Budruk',\n",
       "       'site_location_Kondhwa Khurd', 'site_location_Koregaon Park',\n",
       "       'site_location_Kothrud', 'site_location_Law College Road',\n",
       "       'site_location_Laxmi Road', 'site_location_Lulla Nagar',\n",
       "       'site_location_Mahatma Gandhi Road',\n",
       "       'site_location_Mangalwar peth', 'site_location_Manik Bagh',\n",
       "       'site_location_Market yard', 'site_location_Model colony',\n",
       "       'site_location_Mukund Nagar', 'site_location_Mundhawa',\n",
       "       'site_location_Nagar Road', 'site_location_Nana Peth',\n",
       "       'site_location_Narayan Peth', 'site_location_Narayangaon',\n",
       "       'site_location_Navi Peth', 'site_location_Padmavati',\n",
       "       'site_location_Parvati Darshan', 'site_location_Pashan',\n",
       "       'site_location_Paud Road', 'site_location_Pirangut',\n",
       "       'site_location_Prabhat Road', 'site_location_Pune Railway Station',\n",
       "       'site_location_Rasta Peth', 'site_location_Raviwar Peth',\n",
       "       'site_location_Sadashiv Peth', 'site_location_Sahakar Nagar',\n",
       "       'site_location_Salunke Vihar', 'site_location_Sasson Road',\n",
       "       'site_location_Satara Road', 'site_location_Senapati Bapat Road',\n",
       "       'site_location_Shaniwar Peth', 'site_location_Shivaji Nagar',\n",
       "       'site_location_Shukrawar Peth', 'site_location_Sinhagad Road',\n",
       "       'site_location_Somwar Peth', 'site_location_Swargate',\n",
       "       'site_location_Tilak Road', 'site_location_Uruli Devachi',\n",
       "       'site_location_Vadgaon Budruk', 'site_location_Viman Nagar',\n",
       "       'site_location_Vishrant Wadi', 'site_location_Wadgaon Sheri',\n",
       "       'site_location_Wagholi', 'site_location_Wakadewadi',\n",
       "       'site_location_Wanowrie', 'site_location_Warje',\n",
       "       'site_location_Yerawada', 'site_location_other'], dtype=object)"
      ]
     },
     "execution_count": 122,
     "metadata": {},
     "output_type": "execute_result"
    }
   ],
   "source": [
    "column_names = np.array(column_names)\n",
    "column_names"
   ]
  },
  {
   "cell_type": "code",
   "execution_count": 123,
   "id": "e419ac32",
   "metadata": {},
   "outputs": [
    {
     "name": "stdout",
     "output_type": "stream",
     "text": [
      "5\n"
     ]
    }
   ],
   "source": [
    "area_type_index = np.where(column_names == area_type_col)[0][0]\n",
    "print(area_type_index)"
   ]
  },
  {
   "cell_type": "code",
   "execution_count": 124,
   "id": "60c986c6",
   "metadata": {},
   "outputs": [
    {
     "name": "stdout",
     "output_type": "stream",
     "text": [
      "104\n"
     ]
    }
   ],
   "source": [
    "site_location_index = np.where(column_names == site_location_col)[0][0]\n",
    "print(site_location_index)"
   ]
  },
  {
   "cell_type": "code",
   "execution_count": 131,
   "id": "cb08c076",
   "metadata": {},
   "outputs": [
    {
     "data": {
      "text/plain": [
       "array([0, 0, 0, 0, 0, 0, 0, 0, 0, 0, 0, 0, 0, 0, 0, 0, 0, 0, 0, 0, 0, 0,\n",
       "       0, 0, 0, 0, 0, 0, 0, 0, 0, 0, 0, 0, 0, 0, 0, 0, 0, 0, 0, 0, 0, 0,\n",
       "       0, 0, 0, 0, 0, 0, 0, 0, 0, 0, 0, 0, 0, 0, 0, 0, 0, 0, 0, 0, 0, 0,\n",
       "       0, 0, 0, 0, 0, 0, 0, 0, 0, 0, 0, 0, 0, 0, 0, 0, 0, 0, 0, 0, 0, 0,\n",
       "       0, 0, 0, 0, 0, 0, 0, 0, 0, 0, 0, 0, 0, 0, 0, 0, 0, 0])"
      ]
     },
     "execution_count": 131,
     "metadata": {},
     "output_type": "execute_result"
    }
   ],
   "source": [
    "array = np.zeros(len(column_names), dtype =int)\n",
    "array"
   ]
  },
  {
   "cell_type": "code",
   "execution_count": 127,
   "id": "ae534205",
   "metadata": {},
   "outputs": [
    {
     "name": "stdout",
     "output_type": "stream",
     "text": [
      "<class 'pandas.core.frame.DataFrame'>\n",
      "RangeIndex: 13320 entries, 0 to 13319\n",
      "Columns: 107 entries, availability to site_location_other\n",
      "dtypes: float64(4), int64(2), uint8(101)\n",
      "memory usage: 1.9 MB\n"
     ]
    }
   ],
   "source": [
    "df.info()"
   ]
  },
  {
   "cell_type": "code",
   "execution_count": 132,
   "id": "85323211",
   "metadata": {},
   "outputs": [
    {
     "data": {
      "text/plain": [
       "array([   1,   20,    3,    2,    0,    1,    0,    0,    0, 2000,    0,\n",
       "          0,    0,    0,    0,    0,    0,    0,    0,    0,    0,    0,\n",
       "          0,    0,    0,    0,    0,    0,    0,    0,    0,    0,    0,\n",
       "          0,    0,    0,    0,    0,    0,    0,    0,    0,    0,    0,\n",
       "          0,    0,    0,    0,    0,    0,    0,    0,    0,    0,    0,\n",
       "          0,    0,    0,    0,    0,    0,    0,    0,    0,    0,    0,\n",
       "          0,    0,    0,    0,    0,    0,    0,    0,    0,    0,    0,\n",
       "          0,    0,    0,    0,    0,    0,    0,    0,    0,    0,    0,\n",
       "          0,    0,    0,    0,    0,    0,    0,    0,    0,    0,    0,\n",
       "          0,    0,    0,    0,    0,    1,    0])"
      ]
     },
     "execution_count": 132,
     "metadata": {},
     "output_type": "execute_result"
    }
   ],
   "source": [
    "#array[0] =dict1_availability\n",
    "array[0]=availability\n",
    "array[1]=size\n",
    "array[2]=bath\n",
    "array[3]=balcony\n",
    "array[9]=new_total_sqft\n",
    "\n",
    "array[area_type_index] = 1\n",
    "array[site_location_index] = 1\n",
    "#array[dict1_availability] = 1\n",
    "\n",
    "array"
   ]
  },
  {
   "cell_type": "code",
   "execution_count": 133,
   "id": "83a04766",
   "metadata": {},
   "outputs": [
    {
     "name": "stdout",
     "output_type": "stream",
     "text": [
      "Predicted Price of your Home : 10654.59 thousands\n",
      "Final Price of your Home is 107.0 /- Lakhs Only\n"
     ]
    }
   ],
   "source": [
    "predicted_price = pune_model.predict([array])[0]  # 2 D\n",
    "print(\"Predicted Price of your Home :\",np.around(predicted_price,2), \"thousands\")\n",
    "final_price = predicted_price/100\n",
    "print(f\"Final Price of your Home is {np.around(final_price)} /- Lakhs Only\")"
   ]
  },
  {
   "cell_type": "code",
   "execution_count": null,
   "id": "7b47407c",
   "metadata": {},
   "outputs": [],
   "source": [
    "# pune_model_enconding_col = {'column_names':list(column_names)}\n",
    "# pune_model_enconding_col"
   ]
  },
  {
   "cell_type": "code",
   "execution_count": 1,
   "id": "e26cdb54",
   "metadata": {},
   "outputs": [
    {
     "ename": "NameError",
     "evalue": "name 'dict1_availability' is not defined",
     "output_type": "error",
     "traceback": [
      "\u001b[1;31m---------------------------------------------------------------------------\u001b[0m",
      "\u001b[1;31mNameError\u001b[0m                                 Traceback (most recent call last)",
      "Input \u001b[1;32mIn [1]\u001b[0m, in \u001b[0;36m<cell line: 1>\u001b[1;34m()\u001b[0m\n\u001b[1;32m----> 1\u001b[0m json_data \u001b[38;5;241m=\u001b[39m {\u001b[38;5;124m\"\u001b[39m\u001b[38;5;124mavailability\u001b[39m\u001b[38;5;124m\"\u001b[39m: \u001b[43mdict1_availability\u001b[49m, \u001b[38;5;124m\"\u001b[39m\u001b[38;5;124msize\u001b[39m\u001b[38;5;124m\"\u001b[39m:dict1_size, \n\u001b[0;32m      2\u001b[0m              \u001b[38;5;124m\"\u001b[39m\u001b[38;5;124msite_location\u001b[39m\u001b[38;5;124m\"\u001b[39m: pune_model_enconding_col, \u001b[38;5;124m\"\u001b[39m\u001b[38;5;124mcolumns\u001b[39m\u001b[38;5;124m\"\u001b[39m:x\u001b[38;5;241m.\u001b[39mcolumns\u001b[38;5;241m.\u001b[39mtolist()}\n",
      "\u001b[1;31mNameError\u001b[0m: name 'dict1_availability' is not defined"
     ]
    }
   ],
   "source": [
    "# json_data = {\"availability\": dict1_availability, \"size\":dict1_size, \n",
    "#              \"site_location\": site, \"columns\":x.columns.tolist()}"
   ]
  },
  {
   "cell_type": "code",
   "execution_count": 134,
   "id": "99c57c6d",
   "metadata": {},
   "outputs": [],
   "source": [
    "import pickle\n",
    "\n",
    "with open(\"Pune_model.pkl\",\"wb\") as f:\n",
    "    pickle.dump(pune_model,f)"
   ]
  },
  {
   "cell_type": "code",
   "execution_count": 135,
   "id": "c3aab107",
   "metadata": {},
   "outputs": [],
   "source": [
    "import json\n",
    "with open(\"project_data.json\",\"w\") as f:\n",
    "    json.dump(project_data,f)\n"
   ]
  }
 ],
 "metadata": {
  "kernelspec": {
   "display_name": "Python 3 (ipykernel)",
   "language": "python",
   "name": "python3"
  },
  "language_info": {
   "codemirror_mode": {
    "name": "ipython",
    "version": 3
   },
   "file_extension": ".py",
   "mimetype": "text/x-python",
   "name": "python",
   "nbconvert_exporter": "python",
   "pygments_lexer": "ipython3",
   "version": "3.9.12"
  }
 },
 "nbformat": 4,
 "nbformat_minor": 5
}
